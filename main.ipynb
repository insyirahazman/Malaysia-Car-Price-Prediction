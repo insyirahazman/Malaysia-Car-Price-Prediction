{
 "cells": [
  {
   "cell_type": "markdown",
   "id": "02370fed",
   "metadata": {
    "papermill": {
     "duration": 0.007689,
     "end_time": "2025-10-30T13:01:26.404290",
     "exception": false,
     "start_time": "2025-10-30T13:01:26.396601",
     "status": "completed"
    },
    "tags": []
   },
   "source": [
    "# Malaysia Car List Price\n",
    "Objective: Build a machine learning model to accurately predict the market price of used cars in Malaysia based on vehicle attributes and market conditions.\n",
    "<br>\n",
    "<br>\n",
    "Target: Price"
   ]
  },
  {
   "cell_type": "code",
   "execution_count": 35,
   "id": "04f82b12",
   "metadata": {
    "_cell_guid": "b1076dfc-b9ad-4769-8c92-a6c4dae69d19",
    "_uuid": "8f2839f25d086af736a60e9eeb907d3b93b6e0e5",
    "execution": {
     "iopub.execute_input": "2025-10-30T13:01:26.418891Z",
     "iopub.status.busy": "2025-10-30T13:01:26.418489Z",
     "iopub.status.idle": "2025-10-30T13:01:30.213882Z",
     "shell.execute_reply": "2025-10-30T13:01:30.212832Z"
    },
    "papermill": {
     "duration": 3.804585,
     "end_time": "2025-10-30T13:01:30.215631",
     "exception": false,
     "start_time": "2025-10-30T13:01:26.411046",
     "status": "completed"
    },
    "tags": []
   },
   "outputs": [],
   "source": [
    "import pandas as pd\n",
    "import numpy as np\n",
    "import matplotlib.pyplot as plt\n",
    "import seaborn as sns\n",
    "\n",
    "import warnings\n",
    "warnings.filterwarnings('ignore')"
   ]
  },
  {
   "cell_type": "markdown",
   "id": "53f78bbf",
   "metadata": {
    "papermill": {
     "duration": 0.006858,
     "end_time": "2025-10-30T13:01:30.229228",
     "exception": false,
     "start_time": "2025-10-30T13:01:30.222370",
     "status": "completed"
    },
    "tags": []
   },
   "source": [
    "# Data Loading and Overview"
   ]
  },
  {
   "cell_type": "code",
   "execution_count": 36,
   "id": "7275d99e",
   "metadata": {
    "execution": {
     "iopub.execute_input": "2025-10-30T13:01:30.244493Z",
     "iopub.status.busy": "2025-10-30T13:01:30.243976Z",
     "iopub.status.idle": "2025-10-30T13:01:30.334167Z",
     "shell.execute_reply": "2025-10-30T13:01:30.333247Z"
    },
    "papermill": {
     "duration": 0.099921,
     "end_time": "2025-10-30T13:01:30.335834",
     "exception": false,
     "start_time": "2025-10-30T13:01:30.235913",
     "status": "completed"
    },
    "tags": []
   },
   "outputs": [
    {
     "data": {
      "text/html": [
       "<div>\n",
       "<style scoped>\n",
       "    .dataframe tbody tr th:only-of-type {\n",
       "        vertical-align: middle;\n",
       "    }\n",
       "\n",
       "    .dataframe tbody tr th {\n",
       "        vertical-align: top;\n",
       "    }\n",
       "\n",
       "    .dataframe thead th {\n",
       "        text-align: right;\n",
       "    }\n",
       "</style>\n",
       "<table border=\"1\" class=\"dataframe\">\n",
       "  <thead>\n",
       "    <tr style=\"text-align: right;\">\n",
       "      <th></th>\n",
       "      <th>Desc</th>\n",
       "      <th>Link</th>\n",
       "      <th>Make</th>\n",
       "      <th>Model</th>\n",
       "      <th>Year</th>\n",
       "      <th>Engine.Cap</th>\n",
       "      <th>Transm</th>\n",
       "      <th>Mileage</th>\n",
       "      <th>Color</th>\n",
       "      <th>Car.Type</th>\n",
       "      <th>Updated</th>\n",
       "      <th>Price</th>\n",
       "    </tr>\n",
       "  </thead>\n",
       "  <tbody>\n",
       "    <tr>\n",
       "      <th>0</th>\n",
       "      <td>2015 Perodua Myvi 1.5 S.E WITH CRAZY DISKAUN U...</td>\n",
       "      <td>/new-cars/2521373/2015-perodua-myvi-1-5-s-e-wi...</td>\n",
       "      <td>Perodua</td>\n",
       "      <td>Myvi</td>\n",
       "      <td>2015</td>\n",
       "      <td>1495cc</td>\n",
       "      <td>Automatic</td>\n",
       "      <td>NaN</td>\n",
       "      <td>Others</td>\n",
       "      <td>NewCar</td>\n",
       "      <td>2015-12-12</td>\n",
       "      <td>47468</td>\n",
       "    </tr>\n",
       "    <tr>\n",
       "      <th>1</th>\n",
       "      <td>2015 Perodua Myvi 1.5 ADVANCE WITH CRAZY DISKA...</td>\n",
       "      <td>/new-cars/2519379/2015-perodua-myvi-1-5-advanc...</td>\n",
       "      <td>Perodua</td>\n",
       "      <td>Myvi</td>\n",
       "      <td>2015</td>\n",
       "      <td>1495cc</td>\n",
       "      <td>Automatic</td>\n",
       "      <td>NaN</td>\n",
       "      <td>Others</td>\n",
       "      <td>NewCar</td>\n",
       "      <td>2015-12-12</td>\n",
       "      <td>55668</td>\n",
       "    </tr>\n",
       "    <tr>\n",
       "      <th>2</th>\n",
       "      <td>2015 Perodua Alza 1.5 (A) SE WITH DISKAUN UP T...</td>\n",
       "      <td>/new-cars/2519365/2015-perodua-alza-1-5-a-se-w...</td>\n",
       "      <td>Perodua</td>\n",
       "      <td>Alza</td>\n",
       "      <td>2015</td>\n",
       "      <td>1495cc</td>\n",
       "      <td>Automatic</td>\n",
       "      <td>NaN</td>\n",
       "      <td>Others</td>\n",
       "      <td>NewCar</td>\n",
       "      <td>2015-12-12</td>\n",
       "      <td>56132</td>\n",
       "    </tr>\n",
       "    <tr>\n",
       "      <th>3</th>\n",
       "      <td>2015 Perodua Myvi 1.5 S.E WITH CRAZY DISKAUN U...</td>\n",
       "      <td>/new-cars/2121602/2015-perodua-myvi-1-5-s-e-wi...</td>\n",
       "      <td>Perodua</td>\n",
       "      <td>Myvi</td>\n",
       "      <td>2015</td>\n",
       "      <td>1495cc</td>\n",
       "      <td>Automatic</td>\n",
       "      <td>NaN</td>\n",
       "      <td>Others</td>\n",
       "      <td>NewCar</td>\n",
       "      <td>2015-12-12</td>\n",
       "      <td>47468</td>\n",
       "    </tr>\n",
       "    <tr>\n",
       "      <th>4</th>\n",
       "      <td>2015 Perodua Alza 1.5 Advance Wagon</td>\n",
       "      <td>/new-cars/2611991/2015-perodua-alza-1-5-advanc...</td>\n",
       "      <td>Perodua</td>\n",
       "      <td>Alza</td>\n",
       "      <td>2015</td>\n",
       "      <td>1495cc</td>\n",
       "      <td>Automatic</td>\n",
       "      <td>NaN</td>\n",
       "      <td>Red</td>\n",
       "      <td>NewCar</td>\n",
       "      <td>2015-12-12</td>\n",
       "      <td>65000</td>\n",
       "    </tr>\n",
       "  </tbody>\n",
       "</table>\n",
       "</div>"
      ],
      "text/plain": [
       "                                                Desc  \\\n",
       "0  2015 Perodua Myvi 1.5 S.E WITH CRAZY DISKAUN U...   \n",
       "1  2015 Perodua Myvi 1.5 ADVANCE WITH CRAZY DISKA...   \n",
       "2  2015 Perodua Alza 1.5 (A) SE WITH DISKAUN UP T...   \n",
       "3  2015 Perodua Myvi 1.5 S.E WITH CRAZY DISKAUN U...   \n",
       "4                2015 Perodua Alza 1.5 Advance Wagon   \n",
       "\n",
       "                                                Link     Make Model  Year  \\\n",
       "0  /new-cars/2521373/2015-perodua-myvi-1-5-s-e-wi...  Perodua  Myvi  2015   \n",
       "1  /new-cars/2519379/2015-perodua-myvi-1-5-advanc...  Perodua  Myvi  2015   \n",
       "2  /new-cars/2519365/2015-perodua-alza-1-5-a-se-w...  Perodua  Alza  2015   \n",
       "3  /new-cars/2121602/2015-perodua-myvi-1-5-s-e-wi...  Perodua  Myvi  2015   \n",
       "4  /new-cars/2611991/2015-perodua-alza-1-5-advanc...  Perodua  Alza  2015   \n",
       "\n",
       "  Engine.Cap     Transm  Mileage   Color Car.Type     Updated  Price  \n",
       "0     1495cc  Automatic      NaN  Others   NewCar  2015-12-12  47468  \n",
       "1     1495cc  Automatic      NaN  Others   NewCar  2015-12-12  55668  \n",
       "2     1495cc  Automatic      NaN  Others   NewCar  2015-12-12  56132  \n",
       "3     1495cc  Automatic      NaN  Others   NewCar  2015-12-12  47468  \n",
       "4     1495cc  Automatic      NaN     Red   NewCar  2015-12-12  65000  "
      ]
     },
     "execution_count": 36,
     "metadata": {},
     "output_type": "execute_result"
    }
   ],
   "source": [
    "# load raw dataset\n",
    "df = pd.read_csv('Malaysia_Final_CarList_Compiled.csv')\n",
    "df.head()"
   ]
  },
  {
   "cell_type": "code",
   "execution_count": 37,
   "id": "92e52f3d",
   "metadata": {
    "execution": {
     "iopub.execute_input": "2025-10-30T13:01:30.351317Z",
     "iopub.status.busy": "2025-10-30T13:01:30.350636Z",
     "iopub.status.idle": "2025-10-30T13:01:30.373796Z",
     "shell.execute_reply": "2025-10-30T13:01:30.372835Z"
    },
    "papermill": {
     "duration": 0.032386,
     "end_time": "2025-10-30T13:01:30.375319",
     "exception": false,
     "start_time": "2025-10-30T13:01:30.342933",
     "status": "completed"
    },
    "tags": []
   },
   "outputs": [
    {
     "data": {
      "text/html": [
       "<div>\n",
       "<style scoped>\n",
       "    .dataframe tbody tr th:only-of-type {\n",
       "        vertical-align: middle;\n",
       "    }\n",
       "\n",
       "    .dataframe tbody tr th {\n",
       "        vertical-align: top;\n",
       "    }\n",
       "\n",
       "    .dataframe thead th {\n",
       "        text-align: right;\n",
       "    }\n",
       "</style>\n",
       "<table border=\"1\" class=\"dataframe\">\n",
       "  <thead>\n",
       "    <tr style=\"text-align: right;\">\n",
       "      <th></th>\n",
       "      <th>Make</th>\n",
       "      <th>Model</th>\n",
       "      <th>Year</th>\n",
       "      <th>Engine.Cap</th>\n",
       "      <th>Transm</th>\n",
       "      <th>Mileage</th>\n",
       "      <th>Color</th>\n",
       "      <th>Car.Type</th>\n",
       "      <th>Updated</th>\n",
       "      <th>Price</th>\n",
       "    </tr>\n",
       "  </thead>\n",
       "  <tbody>\n",
       "    <tr>\n",
       "      <th>0</th>\n",
       "      <td>Perodua</td>\n",
       "      <td>Myvi</td>\n",
       "      <td>2015</td>\n",
       "      <td>1495cc</td>\n",
       "      <td>Automatic</td>\n",
       "      <td>NaN</td>\n",
       "      <td>Others</td>\n",
       "      <td>NewCar</td>\n",
       "      <td>2015-12-12</td>\n",
       "      <td>47468</td>\n",
       "    </tr>\n",
       "    <tr>\n",
       "      <th>1</th>\n",
       "      <td>Perodua</td>\n",
       "      <td>Myvi</td>\n",
       "      <td>2015</td>\n",
       "      <td>1495cc</td>\n",
       "      <td>Automatic</td>\n",
       "      <td>NaN</td>\n",
       "      <td>Others</td>\n",
       "      <td>NewCar</td>\n",
       "      <td>2015-12-12</td>\n",
       "      <td>55668</td>\n",
       "    </tr>\n",
       "    <tr>\n",
       "      <th>2</th>\n",
       "      <td>Perodua</td>\n",
       "      <td>Alza</td>\n",
       "      <td>2015</td>\n",
       "      <td>1495cc</td>\n",
       "      <td>Automatic</td>\n",
       "      <td>NaN</td>\n",
       "      <td>Others</td>\n",
       "      <td>NewCar</td>\n",
       "      <td>2015-12-12</td>\n",
       "      <td>56132</td>\n",
       "    </tr>\n",
       "    <tr>\n",
       "      <th>3</th>\n",
       "      <td>Perodua</td>\n",
       "      <td>Myvi</td>\n",
       "      <td>2015</td>\n",
       "      <td>1495cc</td>\n",
       "      <td>Automatic</td>\n",
       "      <td>NaN</td>\n",
       "      <td>Others</td>\n",
       "      <td>NewCar</td>\n",
       "      <td>2015-12-12</td>\n",
       "      <td>47468</td>\n",
       "    </tr>\n",
       "    <tr>\n",
       "      <th>4</th>\n",
       "      <td>Perodua</td>\n",
       "      <td>Alza</td>\n",
       "      <td>2015</td>\n",
       "      <td>1495cc</td>\n",
       "      <td>Automatic</td>\n",
       "      <td>NaN</td>\n",
       "      <td>Red</td>\n",
       "      <td>NewCar</td>\n",
       "      <td>2015-12-12</td>\n",
       "      <td>65000</td>\n",
       "    </tr>\n",
       "    <tr>\n",
       "      <th>...</th>\n",
       "      <td>...</td>\n",
       "      <td>...</td>\n",
       "      <td>...</td>\n",
       "      <td>...</td>\n",
       "      <td>...</td>\n",
       "      <td>...</td>\n",
       "      <td>...</td>\n",
       "      <td>...</td>\n",
       "      <td>...</td>\n",
       "      <td>...</td>\n",
       "    </tr>\n",
       "    <tr>\n",
       "      <th>5995</th>\n",
       "      <td>Perodua</td>\n",
       "      <td>Viva</td>\n",
       "      <td>2007</td>\n",
       "      <td>989cc</td>\n",
       "      <td>Automatic</td>\n",
       "      <td>22500.0</td>\n",
       "      <td>Silver</td>\n",
       "      <td>UsedCar</td>\n",
       "      <td>2015-04-06</td>\n",
       "      <td>18000</td>\n",
       "    </tr>\n",
       "    <tr>\n",
       "      <th>5996</th>\n",
       "      <td>Perodua</td>\n",
       "      <td>Rusa</td>\n",
       "      <td>1997</td>\n",
       "      <td>1590cc</td>\n",
       "      <td>Manual</td>\n",
       "      <td>102500.0</td>\n",
       "      <td>Maroon</td>\n",
       "      <td>UsedCar</td>\n",
       "      <td>2015-05-12</td>\n",
       "      <td>8000</td>\n",
       "    </tr>\n",
       "    <tr>\n",
       "      <th>5997</th>\n",
       "      <td>Perodua</td>\n",
       "      <td>Myvi</td>\n",
       "      <td>2014</td>\n",
       "      <td>1495cc</td>\n",
       "      <td>Automatic</td>\n",
       "      <td>22500.0</td>\n",
       "      <td>White</td>\n",
       "      <td>UsedCar</td>\n",
       "      <td>2015-06-16</td>\n",
       "      <td>45500</td>\n",
       "    </tr>\n",
       "    <tr>\n",
       "      <th>5998</th>\n",
       "      <td>Perodua</td>\n",
       "      <td>Myvi</td>\n",
       "      <td>2014</td>\n",
       "      <td>1298cc</td>\n",
       "      <td>Automatic</td>\n",
       "      <td>17500.0</td>\n",
       "      <td>Silver</td>\n",
       "      <td>UsedCar</td>\n",
       "      <td>2015-08-06</td>\n",
       "      <td>42000</td>\n",
       "    </tr>\n",
       "    <tr>\n",
       "      <th>5999</th>\n",
       "      <td>Perodua</td>\n",
       "      <td>Myvi</td>\n",
       "      <td>2014</td>\n",
       "      <td>1298cc</td>\n",
       "      <td>Automatic</td>\n",
       "      <td>27500.0</td>\n",
       "      <td>Orange</td>\n",
       "      <td>UsedCar</td>\n",
       "      <td>2015-07-06</td>\n",
       "      <td>42000</td>\n",
       "    </tr>\n",
       "  </tbody>\n",
       "</table>\n",
       "<p>6000 rows × 10 columns</p>\n",
       "</div>"
      ],
      "text/plain": [
       "         Make Model  Year Engine.Cap     Transm   Mileage   Color Car.Type  \\\n",
       "0     Perodua  Myvi  2015     1495cc  Automatic       NaN  Others   NewCar   \n",
       "1     Perodua  Myvi  2015     1495cc  Automatic       NaN  Others   NewCar   \n",
       "2     Perodua  Alza  2015     1495cc  Automatic       NaN  Others   NewCar   \n",
       "3     Perodua  Myvi  2015     1495cc  Automatic       NaN  Others   NewCar   \n",
       "4     Perodua  Alza  2015     1495cc  Automatic       NaN     Red   NewCar   \n",
       "...       ...   ...   ...        ...        ...       ...     ...      ...   \n",
       "5995  Perodua  Viva  2007      989cc  Automatic   22500.0  Silver  UsedCar   \n",
       "5996  Perodua  Rusa  1997     1590cc     Manual  102500.0  Maroon  UsedCar   \n",
       "5997  Perodua  Myvi  2014     1495cc  Automatic   22500.0   White  UsedCar   \n",
       "5998  Perodua  Myvi  2014     1298cc  Automatic   17500.0  Silver  UsedCar   \n",
       "5999  Perodua  Myvi  2014     1298cc  Automatic   27500.0  Orange  UsedCar   \n",
       "\n",
       "         Updated  Price  \n",
       "0     2015-12-12  47468  \n",
       "1     2015-12-12  55668  \n",
       "2     2015-12-12  56132  \n",
       "3     2015-12-12  47468  \n",
       "4     2015-12-12  65000  \n",
       "...          ...    ...  \n",
       "5995  2015-04-06  18000  \n",
       "5996  2015-05-12   8000  \n",
       "5997  2015-06-16  45500  \n",
       "5998  2015-08-06  42000  \n",
       "5999  2015-07-06  42000  \n",
       "\n",
       "[6000 rows x 10 columns]"
      ]
     },
     "execution_count": 37,
     "metadata": {},
     "output_type": "execute_result"
    }
   ],
   "source": [
    "# remove uneccesary columns\n",
    "df = df.drop(columns=['Desc', 'Link'])\n",
    "df"
   ]
  },
  {
   "cell_type": "code",
   "execution_count": 38,
   "id": "977ad6b3",
   "metadata": {
    "execution": {
     "iopub.execute_input": "2025-10-30T13:01:30.391639Z",
     "iopub.status.busy": "2025-10-30T13:01:30.390739Z",
     "iopub.status.idle": "2025-10-30T13:01:30.411670Z",
     "shell.execute_reply": "2025-10-30T13:01:30.410594Z"
    },
    "papermill": {
     "duration": 0.030385,
     "end_time": "2025-10-30T13:01:30.413102",
     "exception": false,
     "start_time": "2025-10-30T13:01:30.382717",
     "status": "completed"
    },
    "tags": []
   },
   "outputs": [
    {
     "name": "stdout",
     "output_type": "stream",
     "text": [
      "<class 'pandas.core.frame.DataFrame'>\n",
      "RangeIndex: 6000 entries, 0 to 5999\n",
      "Data columns (total 10 columns):\n",
      " #   Column      Non-Null Count  Dtype  \n",
      "---  ------      --------------  -----  \n",
      " 0   Make        6000 non-null   object \n",
      " 1   Model       6000 non-null   object \n",
      " 2   Year        6000 non-null   int64  \n",
      " 3   Engine.Cap  6000 non-null   object \n",
      " 4   Transm      6000 non-null   object \n",
      " 5   Mileage     3000 non-null   float64\n",
      " 6   Color       6000 non-null   object \n",
      " 7   Car.Type    6000 non-null   object \n",
      " 8   Updated     6000 non-null   object \n",
      " 9   Price       6000 non-null   int64  \n",
      "dtypes: float64(1), int64(2), object(7)\n",
      "memory usage: 468.9+ KB\n"
     ]
    }
   ],
   "source": [
    "# check structure and data types\n",
    "df.info()"
   ]
  },
  {
   "cell_type": "code",
   "execution_count": 39,
   "id": "b163b10d",
   "metadata": {
    "execution": {
     "iopub.execute_input": "2025-10-30T13:01:30.429305Z",
     "iopub.status.busy": "2025-10-30T13:01:30.428994Z",
     "iopub.status.idle": "2025-10-30T13:01:30.471366Z",
     "shell.execute_reply": "2025-10-30T13:01:30.470259Z"
    },
    "papermill": {
     "duration": 0.0523,
     "end_time": "2025-10-30T13:01:30.472880",
     "exception": false,
     "start_time": "2025-10-30T13:01:30.420580",
     "status": "completed"
    },
    "tags": []
   },
   "outputs": [
    {
     "data": {
      "text/html": [
       "<div>\n",
       "<style scoped>\n",
       "    .dataframe tbody tr th:only-of-type {\n",
       "        vertical-align: middle;\n",
       "    }\n",
       "\n",
       "    .dataframe tbody tr th {\n",
       "        vertical-align: top;\n",
       "    }\n",
       "\n",
       "    .dataframe thead th {\n",
       "        text-align: right;\n",
       "    }\n",
       "</style>\n",
       "<table border=\"1\" class=\"dataframe\">\n",
       "  <thead>\n",
       "    <tr style=\"text-align: right;\">\n",
       "      <th></th>\n",
       "      <th>Make</th>\n",
       "      <th>Model</th>\n",
       "      <th>Year</th>\n",
       "      <th>Engine.Cap</th>\n",
       "      <th>Transm</th>\n",
       "      <th>Mileage</th>\n",
       "      <th>Color</th>\n",
       "      <th>Car.Type</th>\n",
       "      <th>Updated</th>\n",
       "      <th>Price</th>\n",
       "    </tr>\n",
       "  </thead>\n",
       "  <tbody>\n",
       "    <tr>\n",
       "      <th>count</th>\n",
       "      <td>6000</td>\n",
       "      <td>6000</td>\n",
       "      <td>6000.000000</td>\n",
       "      <td>6000</td>\n",
       "      <td>6000</td>\n",
       "      <td>3000.000000</td>\n",
       "      <td>6000</td>\n",
       "      <td>6000</td>\n",
       "      <td>6000</td>\n",
       "      <td>6000.000000</td>\n",
       "    </tr>\n",
       "    <tr>\n",
       "      <th>unique</th>\n",
       "      <td>1</td>\n",
       "      <td>10</td>\n",
       "      <td>NaN</td>\n",
       "      <td>12</td>\n",
       "      <td>2</td>\n",
       "      <td>NaN</td>\n",
       "      <td>18</td>\n",
       "      <td>2</td>\n",
       "      <td>399</td>\n",
       "      <td>NaN</td>\n",
       "    </tr>\n",
       "    <tr>\n",
       "      <th>top</th>\n",
       "      <td>Perodua</td>\n",
       "      <td>Myvi</td>\n",
       "      <td>NaN</td>\n",
       "      <td>-</td>\n",
       "      <td>Automatic</td>\n",
       "      <td>NaN</td>\n",
       "      <td>Others</td>\n",
       "      <td>NewCar</td>\n",
       "      <td>2014-06-15</td>\n",
       "      <td>NaN</td>\n",
       "    </tr>\n",
       "    <tr>\n",
       "      <th>freq</th>\n",
       "      <td>6000</td>\n",
       "      <td>3000</td>\n",
       "      <td>NaN</td>\n",
       "      <td>1482</td>\n",
       "      <td>4042</td>\n",
       "      <td>NaN</td>\n",
       "      <td>2843</td>\n",
       "      <td>3000</td>\n",
       "      <td>947</td>\n",
       "      <td>NaN</td>\n",
       "    </tr>\n",
       "    <tr>\n",
       "      <th>mean</th>\n",
       "      <td>NaN</td>\n",
       "      <td>NaN</td>\n",
       "      <td>2011.191833</td>\n",
       "      <td>NaN</td>\n",
       "      <td>NaN</td>\n",
       "      <td>79661.648000</td>\n",
       "      <td>NaN</td>\n",
       "      <td>NaN</td>\n",
       "      <td>NaN</td>\n",
       "      <td>33959.385333</td>\n",
       "    </tr>\n",
       "    <tr>\n",
       "      <th>std</th>\n",
       "      <td>NaN</td>\n",
       "      <td>NaN</td>\n",
       "      <td>3.934753</td>\n",
       "      <td>NaN</td>\n",
       "      <td>NaN</td>\n",
       "      <td>44520.370966</td>\n",
       "      <td>NaN</td>\n",
       "      <td>NaN</td>\n",
       "      <td>NaN</td>\n",
       "      <td>14870.941685</td>\n",
       "    </tr>\n",
       "    <tr>\n",
       "      <th>min</th>\n",
       "      <td>NaN</td>\n",
       "      <td>NaN</td>\n",
       "      <td>1994.000000</td>\n",
       "      <td>NaN</td>\n",
       "      <td>NaN</td>\n",
       "      <td>22.000000</td>\n",
       "      <td>NaN</td>\n",
       "      <td>NaN</td>\n",
       "      <td>NaN</td>\n",
       "      <td>3000.000000</td>\n",
       "    </tr>\n",
       "    <tr>\n",
       "      <th>25%</th>\n",
       "      <td>NaN</td>\n",
       "      <td>NaN</td>\n",
       "      <td>2009.000000</td>\n",
       "      <td>NaN</td>\n",
       "      <td>NaN</td>\n",
       "      <td>52500.000000</td>\n",
       "      <td>NaN</td>\n",
       "      <td>NaN</td>\n",
       "      <td>NaN</td>\n",
       "      <td>22000.000000</td>\n",
       "    </tr>\n",
       "    <tr>\n",
       "      <th>50%</th>\n",
       "      <td>NaN</td>\n",
       "      <td>NaN</td>\n",
       "      <td>2014.000000</td>\n",
       "      <td>NaN</td>\n",
       "      <td>NaN</td>\n",
       "      <td>72500.000000</td>\n",
       "      <td>NaN</td>\n",
       "      <td>NaN</td>\n",
       "      <td>NaN</td>\n",
       "      <td>34346.000000</td>\n",
       "    </tr>\n",
       "    <tr>\n",
       "      <th>75%</th>\n",
       "      <td>NaN</td>\n",
       "      <td>NaN</td>\n",
       "      <td>2014.000000</td>\n",
       "      <td>NaN</td>\n",
       "      <td>NaN</td>\n",
       "      <td>97500.000000</td>\n",
       "      <td>NaN</td>\n",
       "      <td>NaN</td>\n",
       "      <td>NaN</td>\n",
       "      <td>45000.000000</td>\n",
       "    </tr>\n",
       "    <tr>\n",
       "      <th>max</th>\n",
       "      <td>NaN</td>\n",
       "      <td>NaN</td>\n",
       "      <td>2015.000000</td>\n",
       "      <td>NaN</td>\n",
       "      <td>NaN</td>\n",
       "      <td>500000.000000</td>\n",
       "      <td>NaN</td>\n",
       "      <td>NaN</td>\n",
       "      <td>NaN</td>\n",
       "      <td>247800.000000</td>\n",
       "    </tr>\n",
       "  </tbody>\n",
       "</table>\n",
       "</div>"
      ],
      "text/plain": [
       "           Make Model         Year Engine.Cap     Transm        Mileage  \\\n",
       "count      6000  6000  6000.000000       6000       6000    3000.000000   \n",
       "unique        1    10          NaN         12          2            NaN   \n",
       "top     Perodua  Myvi          NaN          -  Automatic            NaN   \n",
       "freq       6000  3000          NaN       1482       4042            NaN   \n",
       "mean        NaN   NaN  2011.191833        NaN        NaN   79661.648000   \n",
       "std         NaN   NaN     3.934753        NaN        NaN   44520.370966   \n",
       "min         NaN   NaN  1994.000000        NaN        NaN      22.000000   \n",
       "25%         NaN   NaN  2009.000000        NaN        NaN   52500.000000   \n",
       "50%         NaN   NaN  2014.000000        NaN        NaN   72500.000000   \n",
       "75%         NaN   NaN  2014.000000        NaN        NaN   97500.000000   \n",
       "max         NaN   NaN  2015.000000        NaN        NaN  500000.000000   \n",
       "\n",
       "         Color Car.Type     Updated          Price  \n",
       "count     6000     6000        6000    6000.000000  \n",
       "unique      18        2         399            NaN  \n",
       "top     Others   NewCar  2014-06-15            NaN  \n",
       "freq      2843     3000         947            NaN  \n",
       "mean       NaN      NaN         NaN   33959.385333  \n",
       "std        NaN      NaN         NaN   14870.941685  \n",
       "min        NaN      NaN         NaN    3000.000000  \n",
       "25%        NaN      NaN         NaN   22000.000000  \n",
       "50%        NaN      NaN         NaN   34346.000000  \n",
       "75%        NaN      NaN         NaN   45000.000000  \n",
       "max        NaN      NaN         NaN  247800.000000  "
      ]
     },
     "execution_count": 39,
     "metadata": {},
     "output_type": "execute_result"
    }
   ],
   "source": [
    "df.describe(include='all')"
   ]
  },
  {
   "cell_type": "code",
   "execution_count": 40,
   "id": "b98879e7",
   "metadata": {
    "execution": {
     "iopub.execute_input": "2025-10-30T13:01:30.489593Z",
     "iopub.status.busy": "2025-10-30T13:01:30.488923Z",
     "iopub.status.idle": "2025-10-30T13:01:30.496381Z",
     "shell.execute_reply": "2025-10-30T13:01:30.495527Z"
    },
    "papermill": {
     "duration": 0.01738,
     "end_time": "2025-10-30T13:01:30.497899",
     "exception": false,
     "start_time": "2025-10-30T13:01:30.480519",
     "status": "completed"
    },
    "tags": []
   },
   "outputs": [
    {
     "data": {
      "text/plain": [
       "Index(['Year', 'Mileage', 'Price'], dtype='object')"
      ]
     },
     "execution_count": 40,
     "metadata": {},
     "output_type": "execute_result"
    }
   ],
   "source": [
    "# check numerical columns\n",
    "numeric_cols = df.select_dtypes(include=np.number)\n",
    "numeric_cols.columns"
   ]
  },
  {
   "cell_type": "code",
   "execution_count": 41,
   "id": "76788d26",
   "metadata": {
    "execution": {
     "iopub.execute_input": "2025-10-30T13:01:30.514088Z",
     "iopub.status.busy": "2025-10-30T13:01:30.513699Z",
     "iopub.status.idle": "2025-10-30T13:01:30.521007Z",
     "shell.execute_reply": "2025-10-30T13:01:30.520067Z"
    },
    "papermill": {
     "duration": 0.017175,
     "end_time": "2025-10-30T13:01:30.522453",
     "exception": false,
     "start_time": "2025-10-30T13:01:30.505278",
     "status": "completed"
    },
    "tags": []
   },
   "outputs": [
    {
     "data": {
      "text/plain": [
       "Index(['Make', 'Model', 'Engine.Cap', 'Transm', 'Color', 'Car.Type',\n",
       "       'Updated'],\n",
       "      dtype='object')"
      ]
     },
     "execution_count": 41,
     "metadata": {},
     "output_type": "execute_result"
    }
   ],
   "source": [
    "# check categorical columns\n",
    "categorical_cols = df.select_dtypes(exclude=np.number)\n",
    "categorical_cols.columns"
   ]
  },
  {
   "cell_type": "markdown",
   "id": "45f748b0",
   "metadata": {
    "papermill": {
     "duration": 0.007202,
     "end_time": "2025-10-30T13:01:30.537409",
     "exception": false,
     "start_time": "2025-10-30T13:01:30.530207",
     "status": "completed"
    },
    "tags": []
   },
   "source": [
    "# Data Cleaning"
   ]
  },
  {
   "cell_type": "code",
   "execution_count": 42,
   "id": "7d18ba6a",
   "metadata": {
    "execution": {
     "iopub.execute_input": "2025-10-30T13:01:30.554040Z",
     "iopub.status.busy": "2025-10-30T13:01:30.553662Z",
     "iopub.status.idle": "2025-10-30T13:01:30.563751Z",
     "shell.execute_reply": "2025-10-30T13:01:30.562651Z"
    },
    "papermill": {
     "duration": 0.020067,
     "end_time": "2025-10-30T13:01:30.565307",
     "exception": false,
     "start_time": "2025-10-30T13:01:30.545240",
     "status": "completed"
    },
    "tags": []
   },
   "outputs": [
    {
     "name": "stdout",
     "output_type": "stream",
     "text": [
      "\n",
      "Make:\n",
      "['Perodua']\n",
      "\n",
      "\n",
      "Model:\n",
      "['Myvi' 'Alza' 'Axia' 'Viva' 'Kancil' 'Kelisa' 'Kenari' 'Rusa' 'Kembara'\n",
      " 'Nautica']\n",
      "\n",
      "\n",
      "Engine.Cap:\n",
      "['1495cc' '1298cc' '998cc' '1500cc' '1000cc' '1300cc' '-' '847cc' '989cc'\n",
      " '659cc' '1296cc' '1590cc']\n",
      "\n",
      "\n",
      "Transm:\n",
      "['Automatic' 'Manual']\n",
      "\n",
      "\n",
      "Color:\n",
      "['Others' 'Red' 'White' 'Silver' 'Green' 'Gold' 'Blue' 'Purple' 'Orange'\n",
      " 'Yellow' 'Maroon' 'Black' 'Pink' 'Grey' 'Bronze' 'Beige' 'Magenta'\n",
      " 'Brown']\n",
      "\n",
      "\n",
      "Car.Type:\n",
      "['NewCar' 'UsedCar']\n",
      "\n",
      "\n",
      "Updated:\n",
      "['2015-12-12' '2015-12-11' '2015-12-10' '2015-12-09' '2015-12-08'\n",
      " '2015-12-07' '2015-12-06' '2015-12-05' '2015-12-04' '2015-12-03'\n",
      " '2015-12-01' '2015-11-28' '2015-11-27' '2015-11-25' '2015-11-24'\n",
      " '2015-11-21' '2015-11-20' '2015-11-18' '2015-11-17' '2015-11-15'\n",
      " '2015-11-14' '2015-11-13' '2015-11-12' '2015-11-11' '2015-11-09'\n",
      " '2015-11-08' '2015-11-07' '2015-11-06' '2015-11-05' '2015-11-04'\n",
      " '2015-11-03' '2015-11-02' '2015-11-26' '2015-11-01' '2015-10-31'\n",
      " '2015-10-29' '2015-10-28' '2015-10-27' '2015-10-24' '2015-10-23'\n",
      " '2015-10-22' '2015-10-18' '2015-10-17' '2015-10-16' '2015-10-15'\n",
      " '2015-10-14' '2015-10-13' '2015-10-12' '2015-10-08' '2015-10-07'\n",
      " '2015-10-06' '2015-10-05' '2015-10-02' '2015-10-01' '2015-09-30'\n",
      " '2015-09-29' '2015-09-28' '2015-09-26' '2015-09-25' '2015-09-23'\n",
      " '2015-09-20' '2015-09-19' '2015-09-18' '2015-09-13' '2015-09-12'\n",
      " '2015-09-09' '2015-09-03' '2015-08-25' '2015-08-19' '2015-08-18'\n",
      " '2015-08-17' '2015-08-14' '2015-08-08' '2015-08-07' '2015-08-05'\n",
      " '2015-07-29' '2015-07-28' '2015-07-20' '2015-07-09' '2015-07-08'\n",
      " '2015-07-06' '2015-07-01' '2015-06-29' '2015-06-22' '2015-06-21'\n",
      " '2015-06-15' '2015-06-14' '2015-05-24' '2015-06-09' '2015-05-23'\n",
      " '2015-05-16' '2015-08-26' '2015-04-29' '2015-09-01' '2015-03-28'\n",
      " '2015-03-26' '2015-03-24' '2015-03-23' '2015-03-14' '2015-03-11'\n",
      " '2015-03-06' '2015-03-05' '2015-03-04' '2015-06-10' '2015-03-03'\n",
      " '2015-03-02' '2015-02-28' '2015-02-27' '2015-02-24' '2015-02-23'\n",
      " '2015-09-11' '2015-02-09' '2015-02-06' '2015-02-04' '2015-01-31'\n",
      " '2015-01-30' '2015-01-29' '2015-01-27' '2015-01-26' '2015-01-24'\n",
      " '2015-01-20' '2015-01-18' '2015-01-16' '2015-01-12' '2015-09-07'\n",
      " '2015-09-04' '2015-01-09' '2015-01-08' '2014-12-16' '2014-12-14'\n",
      " '2014-12-11' '2014-12-05' '2014-12-04' '2014-12-02' '2014-11-28'\n",
      " '2014-11-27' '2014-11-26' '2014-11-23' '2014-11-22' '2014-11-21'\n",
      " '2014-11-17' '2014-11-16' '2014-11-15' '2014-11-12' '2014-11-11'\n",
      " '2014-11-10' '2014-11-09' '2014-11-08' '2014-11-07' '2014-11-06'\n",
      " '2014-11-04' '2014-11-03' '2014-11-01' '2014-10-31' '2014-10-29'\n",
      " '2015-01-01' '2015-08-27' '2015-08-31' '2015-08-23' '2015-08-24'\n",
      " '2015-08-16' '2015-08-21' '2015-08-20' '2015-08-28' '2015-07-04'\n",
      " '2015-06-30' '2015-08-10' '2015-08-04' '2015-09-02' '2015-05-03'\n",
      " '2015-04-28' '2015-07-03' '2015-05-20' '2015-05-11' '2015-04-03'\n",
      " '2015-05-15' '2015-04-02' '2015-04-10' '2015-03-21' '2015-04-17'\n",
      " '2015-02-01' '2014-12-25' '2015-02-03' '2015-01-19' '2015-01-25'\n",
      " '2014-11-18' '2014-11-14' '2014-11-29' '2015-01-15' '2014-12-09'\n",
      " '2015-02-05' '2014-06-13' '2015-08-15' '2014-11-19' '2014-09-28'\n",
      " '2015-08-12' '2015-07-23' '2015-09-14' '2014-08-14' '2014-06-30'\n",
      " '2015-04-30' '2014-10-02' '2014-10-04' '2014-08-24' '2014-10-15'\n",
      " '2014-10-13' '2014-06-15' '2014-10-21' '2014-10-19' '2014-06-14'\n",
      " '2015-06-11' '2015-01-22' '2015-05-13' '2015-04-16' '2015-03-08'\n",
      " '2014-10-11' '2014-10-18' '2014-10-12' '2014-09-27' '2014-08-21'\n",
      " '2015-02-15' '2015-10-26' '2015-07-24' '2015-07-26' '2015-09-08'\n",
      " '2014-07-03' '2014-11-02' '2015-01-28' '2014-10-30' '2014-07-01'\n",
      " '2015-09-16' '2015-08-29' '2015-08-11' '2014-08-30' '2015-01-02'\n",
      " '2015-11-29' '2014-10-27' '2014-08-28' '2014-10-07' '2014-07-31'\n",
      " '2015-05-28' '2015-05-25' '2015-06-17' '2015-06-07' '2014-08-11'\n",
      " '2014-07-16' '2014-12-08' '2014-10-14' '2014-10-06' '2014-08-13'\n",
      " '2014-08-07' '2015-10-30' '2014-12-30' '2014-08-03' '2014-08-05'\n",
      " '2014-07-26' '2014-07-14' '2014-07-12' '2014-09-02' '2014-10-01'\n",
      " '2014-07-09' '2014-06-25' '2015-06-13' '2014-07-24' '2015-04-13'\n",
      " '2014-09-08' '2015-06-27' '2015-04-20' '2015-04-15' '2015-06-04'\n",
      " '2015-03-31' '2015-04-01' '2015-04-09' '2015-10-20' '2015-06-19'\n",
      " '2015-05-18' '2015-07-22' '2014-11-24' '2014-09-10' '2014-08-01'\n",
      " '2014-10-28' '2014-08-09' '2014-07-06' '2014-12-03' '2014-12-20'\n",
      " '2014-11-13' '2014-11-05' '2014-09-11' '2015-01-10' '2014-09-14'\n",
      " '2014-08-06' '2014-09-29' '2014-06-22' '2014-06-03' '2014-12-31'\n",
      " '2014-12-17' '2014-10-17' '2014-09-30' '2014-09-26' '2014-09-16'\n",
      " '2014-07-30' '2014-07-08' '2015-12-02' '2015-11-30' '2015-11-23'\n",
      " '2015-11-22' '2015-11-19' '2015-11-16' '2015-11-10' '2015-10-21'\n",
      " '2015-10-19' '2015-10-11' '2015-10-10' '2015-10-09' '2015-10-04'\n",
      " '2015-10-03' '2015-09-27' '2015-09-24' '2015-09-22' '2015-09-21'\n",
      " '2015-09-17' '2015-09-15' '2015-09-10' '2015-09-06' '2015-09-05'\n",
      " '2015-08-30' '2015-08-22' '2015-08-13' '2015-08-09' '2015-08-06'\n",
      " '2015-08-03' '2015-07-31' '2015-07-30' '2015-07-27' '2015-07-11'\n",
      " '2015-07-10' '2015-07-07' '2015-07-05' '2015-07-02' '2015-06-28'\n",
      " '2015-06-25' '2015-06-23' '2015-06-18' '2015-06-16' '2015-06-12'\n",
      " '2015-06-08' '2015-06-06' '2015-07-15' '2015-06-05' '2015-06-03'\n",
      " '2015-06-02' '2015-05-27' '2015-05-26' '2015-05-21' '2015-05-19'\n",
      " '2015-05-09' '2015-05-06' '2015-05-05' '2015-04-26' '2015-04-25'\n",
      " '2015-04-23' '2015-04-21' '2015-04-18' '2015-04-14' '2015-04-12'\n",
      " '2015-04-07' '2015-04-06' '2015-03-29' '2015-03-27' '2015-03-25'\n",
      " '2015-03-20' '2015-03-19' '2015-03-18' '2015-03-17' '2015-03-16'\n",
      " '2015-03-07' '2015-05-02' '2015-07-14' '2015-06-26' '2015-06-01'\n",
      " '2015-08-01' '2015-04-08' '2015-03-10' '2015-07-25' '2015-06-24'\n",
      " '2015-03-01' '2015-05-22' '2015-10-25' '2015-05-14' '2015-05-08'\n",
      " '2015-07-21' '2015-07-19' '2015-07-13' '2015-03-12' '2015-05-29'\n",
      " '2015-02-14' '2015-03-15' '2015-05-30' '2015-05-12']\n",
      "\n"
     ]
    }
   ],
   "source": [
    "# check unique values for each categorical columns\n",
    "for col in categorical_cols:\n",
    "    print(f\"\\n{col}:\\n{df[col].unique()}\\n\")"
   ]
  },
  {
   "cell_type": "markdown",
   "id": "dd5ffa91",
   "metadata": {
    "papermill": {
     "duration": 0.00744,
     "end_time": "2025-10-30T13:01:30.580613",
     "exception": false,
     "start_time": "2025-10-30T13:01:30.573173",
     "status": "completed"
    },
    "tags": []
   },
   "source": [
    "**All categorical features have unique values**"
   ]
  },
  {
   "cell_type": "code",
   "execution_count": 43,
   "id": "df9cf103",
   "metadata": {
    "execution": {
     "iopub.execute_input": "2025-10-30T13:01:30.597419Z",
     "iopub.status.busy": "2025-10-30T13:01:30.597069Z",
     "iopub.status.idle": "2025-10-30T13:01:31.458784Z",
     "shell.execute_reply": "2025-10-30T13:01:31.457693Z"
    },
    "papermill": {
     "duration": 0.872969,
     "end_time": "2025-10-30T13:01:31.461203",
     "exception": false,
     "start_time": "2025-10-30T13:01:30.588234",
     "status": "completed"
    },
    "tags": []
   },
   "outputs": [
    {
     "data": {
      "text/plain": [
       "<Figure size 1800x600 with 3 Axes>"
      ]
     },
     "metadata": {},
     "output_type": "display_data"
    }
   ],
   "source": [
    "# List of categorical features\n",
    "cat_features = ['Model', 'Transm', 'Color']  # adjust as needed\n",
    "\n",
    "# Limit brand to top N to avoid clutter\n",
    "top_brands = df['Model'].value_counts().head(10).index\n",
    "df_top = df[df['Model'].isin(top_brands)]\n",
    "\n",
    "fig, axes = plt.subplots(1, len(cat_features), figsize=(6 * len(cat_features), 6))\n",
    "\n",
    "if len(cat_features) == 1:\n",
    "    axes = [axes]\n",
    "\n",
    "for i, col in enumerate(cat_features):\n",
    "    if col == 'Model':\n",
    "        data = df_top\n",
    "    else:\n",
    "        data = df\n",
    "    \n",
    "    sns.boxplot(data=data, x=col, y='Price', ax=axes[i])\n",
    "    axes[i].set_title(f'Price by {col.title()}')\n",
    "    axes[i].tick_params(axis='x', rotation=45)\n",
    "    axes[i].set_ylabel('Price')\n",
    "\n",
    "plt.tight_layout()\n",
    "plt.show()"
   ]
  },
  {
   "cell_type": "code",
   "execution_count": 44,
   "id": "03c425f6",
   "metadata": {
    "execution": {
     "iopub.execute_input": "2025-10-30T13:01:31.481611Z",
     "iopub.status.busy": "2025-10-30T13:01:31.481310Z",
     "iopub.status.idle": "2025-10-30T13:01:31.724069Z",
     "shell.execute_reply": "2025-10-30T13:01:31.723161Z"
    },
    "papermill": {
     "duration": 0.254961,
     "end_time": "2025-10-30T13:01:31.725631",
     "exception": false,
     "start_time": "2025-10-30T13:01:31.470670",
     "status": "completed"
    },
    "tags": []
   },
   "outputs": [
    {
     "data": {
      "text/plain": [
       "<Figure size 1000x600 with 1 Axes>"
      ]
     },
     "metadata": {},
     "output_type": "display_data"
    }
   ],
   "source": [
    "# average price by brand (top 10)\n",
    "avg_price_by_brand = df_top.groupby('Model')['Price'].mean().sort_values(ascending=False)\n",
    "\n",
    "plt.figure(figsize=(10, 6))\n",
    "sns.barplot(x=avg_price_by_brand.index, y=avg_price_by_brand.values)\n",
    "plt.title('Average Price by Brand (Top 10)')\n",
    "plt.ylabel('Average Price (RM)')\n",
    "plt.xlabel('Model')\n",
    "plt.xticks(rotation=45)\n",
    "plt.tight_layout()\n",
    "plt.show()"
   ]
  },
  {
   "cell_type": "code",
   "execution_count": 45,
   "id": "81157f90",
   "metadata": {
    "execution": {
     "iopub.execute_input": "2025-10-30T13:01:31.746793Z",
     "iopub.status.busy": "2025-10-30T13:01:31.746487Z",
     "iopub.status.idle": "2025-10-30T13:01:31.757271Z",
     "shell.execute_reply": "2025-10-30T13:01:31.756307Z"
    },
    "papermill": {
     "duration": 0.023255,
     "end_time": "2025-10-30T13:01:31.758750",
     "exception": false,
     "start_time": "2025-10-30T13:01:31.735495",
     "status": "completed"
    },
    "tags": []
   },
   "outputs": [],
   "source": [
    "# update using datetime standard format\n",
    "df['Updated'] = pd.to_datetime(df['Updated'])"
   ]
  },
  {
   "cell_type": "code",
   "execution_count": 46,
   "id": "a605ee91",
   "metadata": {
    "execution": {
     "iopub.execute_input": "2025-10-30T13:01:31.779589Z",
     "iopub.status.busy": "2025-10-30T13:01:31.779290Z",
     "iopub.status.idle": "2025-10-30T13:01:31.968153Z",
     "shell.execute_reply": "2025-10-30T13:01:31.967263Z"
    },
    "papermill": {
     "duration": 0.20114,
     "end_time": "2025-10-30T13:01:31.969651",
     "exception": false,
     "start_time": "2025-10-30T13:01:31.768511",
     "status": "completed"
    },
    "tags": []
   },
   "outputs": [
    {
     "data": {
      "text/html": [
       "<div>\n",
       "<style scoped>\n",
       "    .dataframe tbody tr th:only-of-type {\n",
       "        vertical-align: middle;\n",
       "    }\n",
       "\n",
       "    .dataframe tbody tr th {\n",
       "        vertical-align: top;\n",
       "    }\n",
       "\n",
       "    .dataframe thead th {\n",
       "        text-align: right;\n",
       "    }\n",
       "</style>\n",
       "<table border=\"1\" class=\"dataframe\">\n",
       "  <thead>\n",
       "    <tr style=\"text-align: right;\">\n",
       "      <th></th>\n",
       "      <th>Make</th>\n",
       "      <th>Model</th>\n",
       "      <th>Year</th>\n",
       "      <th>Engine.Cap</th>\n",
       "      <th>Transm</th>\n",
       "      <th>Mileage</th>\n",
       "      <th>Color</th>\n",
       "      <th>Car.Type</th>\n",
       "      <th>Updated</th>\n",
       "      <th>Price</th>\n",
       "    </tr>\n",
       "  </thead>\n",
       "  <tbody>\n",
       "    <tr>\n",
       "      <th>0</th>\n",
       "      <td>Perodua</td>\n",
       "      <td>6</td>\n",
       "      <td>2015</td>\n",
       "      <td>5</td>\n",
       "      <td>0</td>\n",
       "      <td>NaN</td>\n",
       "      <td>11</td>\n",
       "      <td>0</td>\n",
       "      <td>2015-12-12</td>\n",
       "      <td>47468</td>\n",
       "    </tr>\n",
       "    <tr>\n",
       "      <th>1</th>\n",
       "      <td>Perodua</td>\n",
       "      <td>6</td>\n",
       "      <td>2015</td>\n",
       "      <td>5</td>\n",
       "      <td>0</td>\n",
       "      <td>NaN</td>\n",
       "      <td>11</td>\n",
       "      <td>0</td>\n",
       "      <td>2015-12-12</td>\n",
       "      <td>55668</td>\n",
       "    </tr>\n",
       "    <tr>\n",
       "      <th>2</th>\n",
       "      <td>Perodua</td>\n",
       "      <td>0</td>\n",
       "      <td>2015</td>\n",
       "      <td>5</td>\n",
       "      <td>0</td>\n",
       "      <td>NaN</td>\n",
       "      <td>11</td>\n",
       "      <td>0</td>\n",
       "      <td>2015-12-12</td>\n",
       "      <td>56132</td>\n",
       "    </tr>\n",
       "    <tr>\n",
       "      <th>3</th>\n",
       "      <td>Perodua</td>\n",
       "      <td>6</td>\n",
       "      <td>2015</td>\n",
       "      <td>5</td>\n",
       "      <td>0</td>\n",
       "      <td>NaN</td>\n",
       "      <td>11</td>\n",
       "      <td>0</td>\n",
       "      <td>2015-12-12</td>\n",
       "      <td>47468</td>\n",
       "    </tr>\n",
       "    <tr>\n",
       "      <th>4</th>\n",
       "      <td>Perodua</td>\n",
       "      <td>0</td>\n",
       "      <td>2015</td>\n",
       "      <td>5</td>\n",
       "      <td>0</td>\n",
       "      <td>NaN</td>\n",
       "      <td>14</td>\n",
       "      <td>0</td>\n",
       "      <td>2015-12-12</td>\n",
       "      <td>65000</td>\n",
       "    </tr>\n",
       "    <tr>\n",
       "      <th>5</th>\n",
       "      <td>Perodua</td>\n",
       "      <td>6</td>\n",
       "      <td>2015</td>\n",
       "      <td>3</td>\n",
       "      <td>0</td>\n",
       "      <td>NaN</td>\n",
       "      <td>16</td>\n",
       "      <td>0</td>\n",
       "      <td>2015-12-12</td>\n",
       "      <td>43862</td>\n",
       "    </tr>\n",
       "    <tr>\n",
       "      <th>6</th>\n",
       "      <td>Perodua</td>\n",
       "      <td>1</td>\n",
       "      <td>2015</td>\n",
       "      <td>11</td>\n",
       "      <td>0</td>\n",
       "      <td>NaN</td>\n",
       "      <td>11</td>\n",
       "      <td>0</td>\n",
       "      <td>2015-12-12</td>\n",
       "      <td>39637</td>\n",
       "    </tr>\n",
       "    <tr>\n",
       "      <th>7</th>\n",
       "      <td>Perodua</td>\n",
       "      <td>6</td>\n",
       "      <td>2015</td>\n",
       "      <td>3</td>\n",
       "      <td>1</td>\n",
       "      <td>NaN</td>\n",
       "      <td>11</td>\n",
       "      <td>0</td>\n",
       "      <td>2015-12-12</td>\n",
       "      <td>40862</td>\n",
       "    </tr>\n",
       "    <tr>\n",
       "      <th>8</th>\n",
       "      <td>Perodua</td>\n",
       "      <td>1</td>\n",
       "      <td>2015</td>\n",
       "      <td>11</td>\n",
       "      <td>1</td>\n",
       "      <td>NaN</td>\n",
       "      <td>11</td>\n",
       "      <td>0</td>\n",
       "      <td>2015-12-12</td>\n",
       "      <td>36637</td>\n",
       "    </tr>\n",
       "    <tr>\n",
       "      <th>9</th>\n",
       "      <td>Perodua</td>\n",
       "      <td>1</td>\n",
       "      <td>2015</td>\n",
       "      <td>11</td>\n",
       "      <td>1</td>\n",
       "      <td>NaN</td>\n",
       "      <td>11</td>\n",
       "      <td>0</td>\n",
       "      <td>2015-12-12</td>\n",
       "      <td>24437</td>\n",
       "    </tr>\n",
       "    <tr>\n",
       "      <th>10</th>\n",
       "      <td>Perodua</td>\n",
       "      <td>1</td>\n",
       "      <td>2015</td>\n",
       "      <td>11</td>\n",
       "      <td>1</td>\n",
       "      <td>NaN</td>\n",
       "      <td>11</td>\n",
       "      <td>0</td>\n",
       "      <td>2015-12-12</td>\n",
       "      <td>30627</td>\n",
       "    </tr>\n",
       "    <tr>\n",
       "      <th>11</th>\n",
       "      <td>Perodua</td>\n",
       "      <td>1</td>\n",
       "      <td>2015</td>\n",
       "      <td>11</td>\n",
       "      <td>0</td>\n",
       "      <td>NaN</td>\n",
       "      <td>15</td>\n",
       "      <td>0</td>\n",
       "      <td>2015-12-12</td>\n",
       "      <td>33627</td>\n",
       "    </tr>\n",
       "    <tr>\n",
       "      <th>12</th>\n",
       "      <td>Perodua</td>\n",
       "      <td>1</td>\n",
       "      <td>2015</td>\n",
       "      <td>11</td>\n",
       "      <td>0</td>\n",
       "      <td>NaN</td>\n",
       "      <td>6</td>\n",
       "      <td>0</td>\n",
       "      <td>2015-12-12</td>\n",
       "      <td>32800</td>\n",
       "    </tr>\n",
       "    <tr>\n",
       "      <th>13</th>\n",
       "      <td>Perodua</td>\n",
       "      <td>6</td>\n",
       "      <td>2015</td>\n",
       "      <td>3</td>\n",
       "      <td>0</td>\n",
       "      <td>NaN</td>\n",
       "      <td>5</td>\n",
       "      <td>0</td>\n",
       "      <td>2015-12-12</td>\n",
       "      <td>43862</td>\n",
       "    </tr>\n",
       "    <tr>\n",
       "      <th>14</th>\n",
       "      <td>Perodua</td>\n",
       "      <td>6</td>\n",
       "      <td>2015</td>\n",
       "      <td>5</td>\n",
       "      <td>0</td>\n",
       "      <td>NaN</td>\n",
       "      <td>14</td>\n",
       "      <td>0</td>\n",
       "      <td>2015-12-12</td>\n",
       "      <td>52968</td>\n",
       "    </tr>\n",
       "    <tr>\n",
       "      <th>15</th>\n",
       "      <td>Perodua</td>\n",
       "      <td>0</td>\n",
       "      <td>2015</td>\n",
       "      <td>6</td>\n",
       "      <td>0</td>\n",
       "      <td>NaN</td>\n",
       "      <td>16</td>\n",
       "      <td>0</td>\n",
       "      <td>2015-12-12</td>\n",
       "      <td>52332</td>\n",
       "    </tr>\n",
       "    <tr>\n",
       "      <th>16</th>\n",
       "      <td>Perodua</td>\n",
       "      <td>6</td>\n",
       "      <td>2015</td>\n",
       "      <td>3</td>\n",
       "      <td>0</td>\n",
       "      <td>NaN</td>\n",
       "      <td>14</td>\n",
       "      <td>0</td>\n",
       "      <td>2015-12-12</td>\n",
       "      <td>44000</td>\n",
       "    </tr>\n",
       "    <tr>\n",
       "      <th>17</th>\n",
       "      <td>Perodua</td>\n",
       "      <td>1</td>\n",
       "      <td>2015</td>\n",
       "      <td>1</td>\n",
       "      <td>0</td>\n",
       "      <td>NaN</td>\n",
       "      <td>16</td>\n",
       "      <td>0</td>\n",
       "      <td>2015-12-12</td>\n",
       "      <td>35000</td>\n",
       "    </tr>\n",
       "    <tr>\n",
       "      <th>18</th>\n",
       "      <td>Perodua</td>\n",
       "      <td>6</td>\n",
       "      <td>2014</td>\n",
       "      <td>5</td>\n",
       "      <td>0</td>\n",
       "      <td>NaN</td>\n",
       "      <td>16</td>\n",
       "      <td>0</td>\n",
       "      <td>2015-12-12</td>\n",
       "      <td>47800</td>\n",
       "    </tr>\n",
       "    <tr>\n",
       "      <th>19</th>\n",
       "      <td>Perodua</td>\n",
       "      <td>1</td>\n",
       "      <td>2015</td>\n",
       "      <td>1</td>\n",
       "      <td>0</td>\n",
       "      <td>NaN</td>\n",
       "      <td>11</td>\n",
       "      <td>0</td>\n",
       "      <td>2015-12-12</td>\n",
       "      <td>36637</td>\n",
       "    </tr>\n",
       "  </tbody>\n",
       "</table>\n",
       "</div>"
      ],
      "text/plain": [
       "       Make  Model  Year  Engine.Cap  Transm  Mileage  Color  Car.Type  \\\n",
       "0   Perodua      6  2015           5       0      NaN     11         0   \n",
       "1   Perodua      6  2015           5       0      NaN     11         0   \n",
       "2   Perodua      0  2015           5       0      NaN     11         0   \n",
       "3   Perodua      6  2015           5       0      NaN     11         0   \n",
       "4   Perodua      0  2015           5       0      NaN     14         0   \n",
       "5   Perodua      6  2015           3       0      NaN     16         0   \n",
       "6   Perodua      1  2015          11       0      NaN     11         0   \n",
       "7   Perodua      6  2015           3       1      NaN     11         0   \n",
       "8   Perodua      1  2015          11       1      NaN     11         0   \n",
       "9   Perodua      1  2015          11       1      NaN     11         0   \n",
       "10  Perodua      1  2015          11       1      NaN     11         0   \n",
       "11  Perodua      1  2015          11       0      NaN     15         0   \n",
       "12  Perodua      1  2015          11       0      NaN      6         0   \n",
       "13  Perodua      6  2015           3       0      NaN      5         0   \n",
       "14  Perodua      6  2015           5       0      NaN     14         0   \n",
       "15  Perodua      0  2015           6       0      NaN     16         0   \n",
       "16  Perodua      6  2015           3       0      NaN     14         0   \n",
       "17  Perodua      1  2015           1       0      NaN     16         0   \n",
       "18  Perodua      6  2014           5       0      NaN     16         0   \n",
       "19  Perodua      1  2015           1       0      NaN     11         0   \n",
       "\n",
       "      Updated  Price  \n",
       "0  2015-12-12  47468  \n",
       "1  2015-12-12  55668  \n",
       "2  2015-12-12  56132  \n",
       "3  2015-12-12  47468  \n",
       "4  2015-12-12  65000  \n",
       "5  2015-12-12  43862  \n",
       "6  2015-12-12  39637  \n",
       "7  2015-12-12  40862  \n",
       "8  2015-12-12  36637  \n",
       "9  2015-12-12  24437  \n",
       "10 2015-12-12  30627  \n",
       "11 2015-12-12  33627  \n",
       "12 2015-12-12  32800  \n",
       "13 2015-12-12  43862  \n",
       "14 2015-12-12  52968  \n",
       "15 2015-12-12  52332  \n",
       "16 2015-12-12  44000  \n",
       "17 2015-12-12  35000  \n",
       "18 2015-12-12  47800  \n",
       "19 2015-12-12  36637  "
      ]
     },
     "execution_count": 46,
     "metadata": {},
     "output_type": "execute_result"
    }
   ],
   "source": [
    "# Use Label Encoder for categorical columns\n",
    "from sklearn.preprocessing import LabelEncoder\n",
    "\n",
    "# Initialize and fit LabelEncoder\n",
    "encoders = {}\n",
    "for col in ['Model', 'Engine.Cap', 'Transm', 'Color', 'Car.Type']:\n",
    "  le = LabelEncoder()\n",
    "  df[col] = le.fit_transform(df[col])\n",
    "  encoders[col] = le\n",
    "\n",
    "df.head(20)"
   ]
  },
  {
   "cell_type": "code",
   "execution_count": 47,
   "id": "4dad8fba",
   "metadata": {
    "execution": {
     "iopub.execute_input": "2025-10-30T13:01:31.991477Z",
     "iopub.status.busy": "2025-10-30T13:01:31.991159Z",
     "iopub.status.idle": "2025-10-30T13:01:31.998315Z",
     "shell.execute_reply": "2025-10-30T13:01:31.997231Z"
    },
    "papermill": {
     "duration": 0.019997,
     "end_time": "2025-10-30T13:01:31.999861",
     "exception": false,
     "start_time": "2025-10-30T13:01:31.979864",
     "status": "completed"
    },
    "tags": []
   },
   "outputs": [
    {
     "name": "stdout",
     "output_type": "stream",
     "text": [
      "______\n",
      "Mapping for Model:\n",
      "0 → Alza\n",
      "1 → Axia\n",
      "2 → Kancil\n",
      "3 → Kelisa\n",
      "4 → Kembara\n",
      "5 → Kenari\n",
      "6 → Myvi\n",
      "7 → Nautica\n",
      "8 → Rusa\n",
      "9 → Viva\n",
      "______\n",
      "Mapping for Engine.Cap:\n",
      "0 → -\n",
      "1 → 1000cc\n",
      "2 → 1296cc\n",
      "3 → 1298cc\n",
      "4 → 1300cc\n",
      "5 → 1495cc\n",
      "6 → 1500cc\n",
      "7 → 1590cc\n",
      "8 → 659cc\n",
      "9 → 847cc\n",
      "10 → 989cc\n",
      "11 → 998cc\n",
      "______\n",
      "Mapping for Transm:\n",
      "0 → Automatic\n",
      "1 → Manual\n",
      "______\n",
      "Mapping for Color:\n",
      "0 → Beige\n",
      "1 → Black\n",
      "2 → Blue\n",
      "3 → Bronze\n",
      "4 → Brown\n",
      "5 → Gold\n",
      "6 → Green\n",
      "7 → Grey\n",
      "8 → Magenta\n",
      "9 → Maroon\n",
      "10 → Orange\n",
      "11 → Others\n",
      "12 → Pink\n",
      "13 → Purple\n",
      "14 → Red\n",
      "15 → Silver\n",
      "16 → White\n",
      "17 → Yellow\n",
      "______\n",
      "Mapping for Car.Type:\n",
      "0 → NewCar\n",
      "1 → UsedCar\n"
     ]
    }
   ],
   "source": [
    "# see the le mapping for each columns\n",
    "for col, le in encoders.items():\n",
    "  mapping = dict(zip(le.classes_, le.transform(le.classes_)))\n",
    "  print('______')\n",
    "  print(f\"Mapping for {col}:\")\n",
    "  for i, label in enumerate(le.classes_):\n",
    "    print(f\"{i} → {label}\")"
   ]
  },
  {
   "cell_type": "code",
   "execution_count": 48,
   "id": "4cb5cca2",
   "metadata": {
    "execution": {
     "iopub.execute_input": "2025-10-30T13:01:32.021165Z",
     "iopub.status.busy": "2025-10-30T13:01:32.020867Z",
     "iopub.status.idle": "2025-10-30T13:01:32.029052Z",
     "shell.execute_reply": "2025-10-30T13:01:32.028198Z"
    },
    "papermill": {
     "duration": 0.020457,
     "end_time": "2025-10-30T13:01:32.030452",
     "exception": false,
     "start_time": "2025-10-30T13:01:32.009995",
     "status": "completed"
    },
    "tags": []
   },
   "outputs": [
    {
     "data": {
      "text/plain": [
       "Make             0\n",
       "Model            0\n",
       "Year             0\n",
       "Engine.Cap       0\n",
       "Transm           0\n",
       "Mileage       3000\n",
       "Color            0\n",
       "Car.Type         0\n",
       "Updated          0\n",
       "Price            0\n",
       "dtype: int64"
      ]
     },
     "execution_count": 48,
     "metadata": {},
     "output_type": "execute_result"
    }
   ],
   "source": [
    "# handle missing values\n",
    "df.isnull().sum()"
   ]
  },
  {
   "cell_type": "markdown",
   "id": "0e1d0be0",
   "metadata": {
    "papermill": {
     "duration": 0.009745,
     "end_time": "2025-10-30T13:01:32.050521",
     "exception": false,
     "start_time": "2025-10-30T13:01:32.040776",
     "status": "completed"
    },
    "tags": []
   },
   "source": [
    "**Mileage have 300 missing values**"
   ]
  },
  {
   "cell_type": "code",
   "execution_count": 49,
   "id": "df776036",
   "metadata": {
    "execution": {
     "iopub.execute_input": "2025-10-30T13:01:32.072648Z",
     "iopub.status.busy": "2025-10-30T13:01:32.071803Z",
     "iopub.status.idle": "2025-10-30T13:01:32.080698Z",
     "shell.execute_reply": "2025-10-30T13:01:32.079807Z"
    },
    "papermill": {
     "duration": 0.021499,
     "end_time": "2025-10-30T13:01:32.082084",
     "exception": false,
     "start_time": "2025-10-30T13:01:32.060585",
     "status": "completed"
    },
    "tags": []
   },
   "outputs": [
    {
     "data": {
      "text/plain": [
       "Make          0\n",
       "Model         0\n",
       "Year          0\n",
       "Engine.Cap    0\n",
       "Transm        0\n",
       "Mileage       0\n",
       "Color         0\n",
       "Car.Type      0\n",
       "Updated       0\n",
       "Price         0\n",
       "dtype: int64"
      ]
     },
     "execution_count": 49,
     "metadata": {},
     "output_type": "execute_result"
    }
   ],
   "source": [
    "# fill missing values in Mileage with mean\n",
    "df['Mileage'] = df['Mileage'].fillna(df['Mileage'].median())\n",
    "df.isnull().sum()"
   ]
  },
  {
   "cell_type": "code",
   "execution_count": 50,
   "id": "cc487e04",
   "metadata": {
    "execution": {
     "iopub.execute_input": "2025-10-30T13:01:32.104459Z",
     "iopub.status.busy": "2025-10-30T13:01:32.103717Z",
     "iopub.status.idle": "2025-10-30T13:01:32.119741Z",
     "shell.execute_reply": "2025-10-30T13:01:32.118518Z"
    },
    "papermill": {
     "duration": 0.028723,
     "end_time": "2025-10-30T13:01:32.121353",
     "exception": false,
     "start_time": "2025-10-30T13:01:32.092630",
     "status": "completed"
    },
    "tags": []
   },
   "outputs": [
    {
     "name": "stdout",
     "output_type": "stream",
     "text": [
      "\n",
      "Identifying outliers using IQR:\n",
      "                  Year: 153 outliers identified\n",
      "               Mileage: 2861 outliers identified\n",
      "                 Price: 1 outliers identified\n",
      "\n",
      "Total unique outliers identified across numeric columns: 2861\n"
     ]
    }
   ],
   "source": [
    "# Identify outliers using IQR\n",
    "print(\"\\nIdentifying outliers using IQR:\")\n",
    "outlier_indices = {}\n",
    "for col in numeric_cols:\n",
    "    Q1 = df[col].quantile(0.25)\n",
    "    Q3 = df[col].quantile(0.75)\n",
    "    IQR = Q3 - Q1\n",
    "    lower_bound = Q1 - 1.5 * IQR\n",
    "    upper_bound = Q3 + 1.5 * IQR\n",
    "    outliers = df[(df[col] < lower_bound) | (df[col] > upper_bound)].index\n",
    "    outlier_indices[col] = outliers\n",
    "    print(f\"  {col:>20}: {len(outliers)} outliers identified\")\n",
    "\n",
    "# Combine indices from all columns\n",
    "all_outlier_indices = [idx for indices in outlier_indices.values() for idx in indices]\n",
    "all_outlier_indices = list(set(all_outlier_indices)) # Remove duplicates\n",
    "\n",
    "print(f\"\\nTotal unique outliers identified across numeric columns: {len(all_outlier_indices)}\")"
   ]
  },
  {
   "cell_type": "markdown",
   "id": "34495d38",
   "metadata": {
    "papermill": {
     "duration": 0.009861,
     "end_time": "2025-10-30T13:01:32.141366",
     "exception": false,
     "start_time": "2025-10-30T13:01:32.131505",
     "status": "completed"
    },
    "tags": []
   },
   "source": [
    "**The outlier is >10% of existing data (6000 rows)**\n",
    "- Mileage have the highest outlier values"
   ]
  },
  {
   "cell_type": "code",
   "execution_count": 51,
   "id": "1164b0d0",
   "metadata": {
    "execution": {
     "iopub.execute_input": "2025-10-30T13:01:32.163268Z",
     "iopub.status.busy": "2025-10-30T13:01:32.162463Z",
     "iopub.status.idle": "2025-10-30T13:01:32.169363Z",
     "shell.execute_reply": "2025-10-30T13:01:32.168418Z"
    },
    "papermill": {
     "duration": 0.019364,
     "end_time": "2025-10-30T13:01:32.170989",
     "exception": false,
     "start_time": "2025-10-30T13:01:32.151625",
     "status": "completed"
    },
    "tags": []
   },
   "outputs": [],
   "source": [
    "# replace the Mileage outlier with lower bound for values below lower bound\n",
    "# replace with upper bound for values above upper bound \n",
    "df['Mileage'] = np.clip(df['Mileage'], lower_bound, upper_bound)"
   ]
  },
  {
   "cell_type": "code",
   "execution_count": 52,
   "id": "66a731f3",
   "metadata": {
    "execution": {
     "iopub.execute_input": "2025-10-30T13:01:32.193516Z",
     "iopub.status.busy": "2025-10-30T13:01:32.192854Z",
     "iopub.status.idle": "2025-10-30T13:01:32.201715Z",
     "shell.execute_reply": "2025-10-30T13:01:32.200842Z"
    },
    "papermill": {
     "duration": 0.021824,
     "end_time": "2025-10-30T13:01:32.203251",
     "exception": false,
     "start_time": "2025-10-30T13:01:32.181427",
     "status": "completed"
    },
    "tags": []
   },
   "outputs": [
    {
     "data": {
      "text/plain": [
       "1835"
      ]
     },
     "execution_count": 52,
     "metadata": {},
     "output_type": "execute_result"
    }
   ],
   "source": [
    "# check duplicated rows\n",
    "df.duplicated().sum()"
   ]
  },
  {
   "cell_type": "code",
   "execution_count": 53,
   "id": "5c60be77",
   "metadata": {
    "execution": {
     "iopub.execute_input": "2025-10-30T13:01:32.226171Z",
     "iopub.status.busy": "2025-10-30T13:01:32.225440Z",
     "iopub.status.idle": "2025-10-30T13:01:32.236724Z",
     "shell.execute_reply": "2025-10-30T13:01:32.235840Z"
    },
    "papermill": {
     "duration": 0.024487,
     "end_time": "2025-10-30T13:01:32.238241",
     "exception": false,
     "start_time": "2025-10-30T13:01:32.213754",
     "status": "completed"
    },
    "tags": []
   },
   "outputs": [
    {
     "data": {
      "text/plain": [
       "0"
      ]
     },
     "execution_count": 53,
     "metadata": {},
     "output_type": "execute_result"
    }
   ],
   "source": [
    "# remove duplicated rows\n",
    "df = df.drop_duplicates()\n",
    "df.duplicated().sum()"
   ]
  },
  {
   "cell_type": "code",
   "execution_count": 54,
   "id": "97904ba4",
   "metadata": {
    "execution": {
     "iopub.execute_input": "2025-10-30T13:01:32.260561Z",
     "iopub.status.busy": "2025-10-30T13:01:32.260255Z",
     "iopub.status.idle": "2025-10-30T13:01:32.653940Z",
     "shell.execute_reply": "2025-10-30T13:01:32.652828Z"
    },
    "papermill": {
     "duration": 0.406879,
     "end_time": "2025-10-30T13:01:32.655924",
     "exception": false,
     "start_time": "2025-10-30T13:01:32.249045",
     "status": "completed"
    },
    "tags": []
   },
   "outputs": [
    {
     "data": {
      "text/plain": [
       "<Figure size 1800x800 with 2 Axes>"
      ]
     },
     "metadata": {},
     "output_type": "display_data"
    }
   ],
   "source": [
    "# visualize relationships between features and price\n",
    "# check numerical columns\n",
    "numeric_cols = df.select_dtypes(include=np.number)\n",
    "numeric_cols.columns\n",
    "\n",
    "plt.figure(figsize=(18,8))\n",
    "sns.heatmap(numeric_cols.corr(), annot=True, cmap='coolwarm')\n",
    "plt.show()"
   ]
  },
  {
   "cell_type": "markdown",
   "id": "af62b74a",
   "metadata": {
    "papermill": {
     "duration": 0.011622,
     "end_time": "2025-10-30T13:01:32.679647",
     "exception": false,
     "start_time": "2025-10-30T13:01:32.668025",
     "status": "completed"
    },
    "tags": []
   },
   "source": [
    "**The highest correlation is Price with Year, 0.81**"
   ]
  },
  {
   "cell_type": "code",
   "execution_count": 55,
   "id": "6b9c2c42",
   "metadata": {
    "execution": {
     "iopub.execute_input": "2025-10-30T13:01:32.704487Z",
     "iopub.status.busy": "2025-10-30T13:01:32.704174Z",
     "iopub.status.idle": "2025-10-30T13:01:33.056159Z",
     "shell.execute_reply": "2025-10-30T13:01:33.055222Z"
    },
    "papermill": {
     "duration": 0.366122,
     "end_time": "2025-10-30T13:01:33.057714",
     "exception": false,
     "start_time": "2025-10-30T13:01:32.691592",
     "status": "completed"
    },
    "tags": []
   },
   "outputs": [
    {
     "name": "stdout",
     "output_type": "stream",
     "text": [
      "Skewness of price: 1.03\n"
     ]
    },
    {
     "data": {
      "text/plain": [
       "Text(0.5, 0, 'Price')"
      ]
     },
     "execution_count": 55,
     "metadata": {},
     "output_type": "execute_result"
    }
   ],
   "source": [
    "# analyze target variable (price) distribution and skewness\n",
    "import seaborn as sns\n",
    "from scipy.stats import skew\n",
    "\n",
    "# Check skewness\n",
    "price_skew = skew(df['Price'])\n",
    "print(f\"Skewness of price: {price_skew:.2f}\")\n",
    "\n",
    "# Plot distribution\n",
    "plt.figure(figsize=(12, 5))\n",
    "\n",
    "# Histogram + KDE\n",
    "plt.subplot(1, 2, 1)\n",
    "sns.histplot(df['Price'], kde=True, bins=50)\n",
    "plt.title(f'Price Distribution (Skew = {price_skew:.2f})')\n",
    "plt.xlabel('Price')"
   ]
  },
  {
   "cell_type": "code",
   "execution_count": 56,
   "id": "a7b057c6",
   "metadata": {
    "execution": {
     "iopub.execute_input": "2025-10-30T13:01:33.085096Z",
     "iopub.status.busy": "2025-10-30T13:01:33.084750Z",
     "iopub.status.idle": "2025-10-30T13:01:33.885290Z",
     "shell.execute_reply": "2025-10-30T13:01:33.884328Z"
    },
    "papermill": {
     "duration": 0.817928,
     "end_time": "2025-10-30T13:01:33.888859",
     "exception": false,
     "start_time": "2025-10-30T13:01:33.070931",
     "status": "completed"
    },
    "tags": []
   },
   "outputs": [
    {
     "data": {
      "text/plain": [
       "<Figure size 1200x500 with 1 Axes>"
      ]
     },
     "metadata": {},
     "output_type": "display_data"
    },
    {
     "data": {
      "text/plain": [
       "<Figure size 2000x500 with 4 Axes>"
      ]
     },
     "metadata": {},
     "output_type": "display_data"
    }
   ],
   "source": [
    "# scatter plot of features to Price\n",
    "df['Year'] = pd.to_numeric(df['Year'], errors='coerce')\n",
    "\n",
    "# List of numerical features to plot\n",
    "numerical_features = ['Year', 'Mileage', 'Engine.Cap', 'Color']\n",
    "\n",
    "# Remove 'price' if accidentally included\n",
    "numerical_features = [col for col in numerical_features if col in df.columns and col != 'price']\n",
    "\n",
    "# Plot scatter plots\n",
    "fig, axes = plt.subplots(1, len(numerical_features), figsize=(5 * len(numerical_features), 5))\n",
    "\n",
    "if len(numerical_features) == 1:\n",
    "    axes = [axes]\n",
    "\n",
    "for i, col in enumerate(numerical_features):\n",
    "    sns.scatterplot(x=df[col], y=df['Price'], ax=axes[i], alpha=0.6)\n",
    "    axes[i].set_title(f'Price vs. {col}')\n",
    "    axes[i].set_xlabel(col)\n",
    "    axes[i].set_ylabel('Price')\n",
    "\n",
    "plt.tight_layout()\n",
    "plt.show()"
   ]
  },
  {
   "cell_type": "markdown",
   "id": "f628958a",
   "metadata": {
    "papermill": {
     "duration": 0.015193,
     "end_time": "2025-10-30T13:01:33.919919",
     "exception": false,
     "start_time": "2025-10-30T13:01:33.904726",
     "status": "completed"
    },
    "tags": []
   },
   "source": [
    "# Model Training\n",
    "\n",
    "**R2: higher is better<br>MSE/MAE/RMSE: lower is better**\n"
   ]
  },
  {
   "cell_type": "markdown",
   "id": "96c0b5a4",
   "metadata": {
    "papermill": {
     "duration": 0.015629,
     "end_time": "2025-10-30T13:01:33.951368",
     "exception": false,
     "start_time": "2025-10-30T13:01:33.935739",
     "status": "completed"
    },
    "tags": []
   },
   "source": [
    "## 1. Linear Regression"
   ]
  },
  {
   "cell_type": "code",
   "execution_count": 57,
   "id": "8300e335",
   "metadata": {
    "execution": {
     "iopub.execute_input": "2025-10-30T13:01:33.983811Z",
     "iopub.status.busy": "2025-10-30T13:01:33.983464Z",
     "iopub.status.idle": "2025-10-30T13:01:34.119388Z",
     "shell.execute_reply": "2025-10-30T13:01:34.118372Z"
    },
    "papermill": {
     "duration": 0.154082,
     "end_time": "2025-10-30T13:01:34.121034",
     "exception": false,
     "start_time": "2025-10-30T13:01:33.966952",
     "status": "completed"
    },
    "tags": []
   },
   "outputs": [],
   "source": [
    "from sklearn.model_selection import train_test_split\n",
    "\n",
    "# data splitting\n",
    "feature = ['Year']\n",
    "target = 'Price'\n",
    "\n",
    "X = df[feature]\n",
    "y = df[target]\n",
    "\n",
    "# 80% train set, 20% test set\n",
    "X_train, X_test, y_train, y_test = train_test_split(X, y, train_size=0.8, random_state=100)"
   ]
  },
  {
   "cell_type": "code",
   "execution_count": 58,
   "id": "0f333e2f",
   "metadata": {
    "execution": {
     "iopub.execute_input": "2025-10-30T13:01:34.153728Z",
     "iopub.status.busy": "2025-10-30T13:01:34.153421Z",
     "iopub.status.idle": "2025-10-30T13:01:34.159425Z",
     "shell.execute_reply": "2025-10-30T13:01:34.158580Z"
    },
    "papermill": {
     "duration": 0.023879,
     "end_time": "2025-10-30T13:01:34.160753",
     "exception": false,
     "start_time": "2025-10-30T13:01:34.136874",
     "status": "completed"
    },
    "tags": []
   },
   "outputs": [
    {
     "data": {
      "text/plain": [
       "(3332, 1)"
      ]
     },
     "execution_count": 58,
     "metadata": {},
     "output_type": "execute_result"
    }
   ],
   "source": [
    "X_train.shape"
   ]
  },
  {
   "cell_type": "code",
   "execution_count": 59,
   "id": "abbe1a14",
   "metadata": {
    "execution": {
     "iopub.execute_input": "2025-10-30T13:01:34.193634Z",
     "iopub.status.busy": "2025-10-30T13:01:34.193317Z",
     "iopub.status.idle": "2025-10-30T13:01:34.198877Z",
     "shell.execute_reply": "2025-10-30T13:01:34.198070Z"
    },
    "papermill": {
     "duration": 0.024128,
     "end_time": "2025-10-30T13:01:34.200327",
     "exception": false,
     "start_time": "2025-10-30T13:01:34.176199",
     "status": "completed"
    },
    "tags": []
   },
   "outputs": [
    {
     "data": {
      "text/plain": [
       "(833, 1)"
      ]
     },
     "execution_count": 59,
     "metadata": {},
     "output_type": "execute_result"
    }
   ],
   "source": [
    "X_test.shape"
   ]
  },
  {
   "cell_type": "code",
   "execution_count": 60,
   "id": "e420b544",
   "metadata": {
    "execution": {
     "iopub.execute_input": "2025-10-30T13:01:34.233461Z",
     "iopub.status.busy": "2025-10-30T13:01:34.233174Z",
     "iopub.status.idle": "2025-10-30T13:01:34.363980Z",
     "shell.execute_reply": "2025-10-30T13:01:34.363022Z"
    },
    "papermill": {
     "duration": 0.149888,
     "end_time": "2025-10-30T13:01:34.365994",
     "exception": false,
     "start_time": "2025-10-30T13:01:34.216106",
     "status": "completed"
    },
    "tags": []
   },
   "outputs": [],
   "source": [
    "# linear reg model training\n",
    "from sklearn.linear_model import LinearRegression\n",
    "\n",
    "model_linear = LinearRegression()\n",
    "\n",
    "#fitting = learning from the training set\n",
    "\n",
    "model_linear.fit(X_train, y_train)\n",
    "\n",
    "#predicting\n",
    "\n",
    "y_pred = model_linear.predict(X_test)"
   ]
  },
  {
   "cell_type": "code",
   "execution_count": 61,
   "id": "e871d0a4",
   "metadata": {
    "execution": {
     "iopub.execute_input": "2025-10-30T13:01:34.398480Z",
     "iopub.status.busy": "2025-10-30T13:01:34.398188Z",
     "iopub.status.idle": "2025-10-30T13:01:34.407072Z",
     "shell.execute_reply": "2025-10-30T13:01:34.406292Z"
    },
    "papermill": {
     "duration": 0.026729,
     "end_time": "2025-10-30T13:01:34.408474",
     "exception": false,
     "start_time": "2025-10-30T13:01:34.381745",
     "status": "completed"
    },
    "tags": []
   },
   "outputs": [
    {
     "name": "stdout",
     "output_type": "stream",
     "text": [
      "R2 Score:  0.5688015626259091\n",
      "MSE:  118546656.92104197\n",
      "MAE:  6583.643196504114\n",
      "RMSE:  10887.91334099615\n"
     ]
    }
   ],
   "source": [
    "# evaluation\n",
    "from sklearn.metrics import r2_score, mean_squared_error, mean_absolute_error\n",
    "import numpy as np\n",
    "\n",
    "print('R2 Score: ', r2_score(y_test, y_pred))\n",
    "print('MSE: ', mean_squared_error(y_test, y_pred))\n",
    "print('MAE: ', mean_absolute_error(y_test, y_pred))\n",
    "print('RMSE: ', np.sqrt(mean_squared_error(y_test, y_pred)))"
   ]
  },
  {
   "cell_type": "markdown",
   "id": "bc4bb076",
   "metadata": {
    "papermill": {
     "duration": 0.015142,
     "end_time": "2025-10-30T13:01:34.439163",
     "exception": false,
     "start_time": "2025-10-30T13:01:34.424021",
     "status": "completed"
    },
    "tags": []
   },
   "source": [
    "## 2. Multiple Linear Regression"
   ]
  },
  {
   "cell_type": "code",
   "execution_count": 62,
   "id": "8d69dd7d",
   "metadata": {
    "execution": {
     "iopub.execute_input": "2025-10-30T13:01:34.480317Z",
     "iopub.status.busy": "2025-10-30T13:01:34.479191Z",
     "iopub.status.idle": "2025-10-30T13:01:34.506270Z",
     "shell.execute_reply": "2025-10-30T13:01:34.504823Z"
    },
    "papermill": {
     "duration": 0.051532,
     "end_time": "2025-10-30T13:01:34.508226",
     "exception": false,
     "start_time": "2025-10-30T13:01:34.456694",
     "status": "completed"
    },
    "tags": []
   },
   "outputs": [
    {
     "name": "stdout",
     "output_type": "stream",
     "text": [
      "R2 Score: 77.03998725024894\n",
      "MSE: 53138065.10242495\n",
      "MAE: 5395.278946436077\n",
      "RMSE:  7289.586072091127\n"
     ]
    }
   ],
   "source": [
    "from sklearn.model_selection import train_test_split\n",
    "from sklearn.linear_model import LinearRegression\n",
    "from sklearn.metrics import mean_squared_error, r2_score, mean_absolute_error\n",
    "\n",
    "feature = ['Model', 'Year', 'Color', 'Engine.Cap'] # select all the highest correlative\n",
    "target = 'Price'\n",
    "\n",
    "X = df[feature]\n",
    "y = df[target]\n",
    "\n",
    "# Step 1: Split the data into train and test set\n",
    "X_train, X_test, y_train, y_test = train_test_split(X, y, test_size=0.2, random_state=42)\n",
    "\n",
    "model_multilinear = LinearRegression()\n",
    "\n",
    "# training\n",
    "model_multilinear.fit(X_train, y_train)\n",
    "\n",
    "# predict\n",
    "y_pred = model_multilinear.predict(X_test) # which later can be used to compare y_pred with y_test\n",
    "\n",
    "# evaluation\n",
    "print(\"R2 Score:\", r2_score(y_test, y_pred)*100)\n",
    "print(\"MSE:\", mean_squared_error(y_test, y_pred))\n",
    "print(\"MAE:\", mean_absolute_error(y_test, y_pred))\n",
    "print('RMSE: ', np.sqrt(mean_squared_error(y_test, y_pred)))"
   ]
  },
  {
   "cell_type": "markdown",
   "id": "6b139b35",
   "metadata": {
    "papermill": {
     "duration": 0.020663,
     "end_time": "2025-10-30T13:01:34.545938",
     "exception": false,
     "start_time": "2025-10-30T13:01:34.525275",
     "status": "completed"
    },
    "tags": []
   },
   "source": [
    "## 3. Random Forest"
   ]
  },
  {
   "cell_type": "code",
   "execution_count": 63,
   "id": "1517d8ca",
   "metadata": {
    "execution": {
     "iopub.execute_input": "2025-10-30T13:01:34.579306Z",
     "iopub.status.busy": "2025-10-30T13:01:34.578976Z",
     "iopub.status.idle": "2025-10-30T13:01:35.308871Z",
     "shell.execute_reply": "2025-10-30T13:01:35.307852Z"
    },
    "papermill": {
     "duration": 0.748363,
     "end_time": "2025-10-30T13:01:35.310403",
     "exception": false,
     "start_time": "2025-10-30T13:01:34.562040",
     "status": "completed"
    },
    "tags": []
   },
   "outputs": [
    {
     "name": "stdout",
     "output_type": "stream",
     "text": [
      "R2 Score: 91.78305481405756\n",
      "MSE: 19017087.35934395\n",
      "MAE: 3020.251292972944\n",
      "RMSE:  4360.858557594359\n"
     ]
    }
   ],
   "source": [
    "from sklearn.ensemble import RandomForestRegressor\n",
    "\n",
    "model_RF = RandomForestRegressor()\n",
    "\n",
    "# training\n",
    "model_RF.fit(X_train, y_train)\n",
    "\n",
    "# predict\n",
    "y_pred = model_RF.predict(X_test) # which later can be used to compare y_pred with y_test\n",
    "\n",
    "# evaluation\n",
    "print(\"R2 Score:\", r2_score(y_test, y_pred)*100)\n",
    "print(\"MSE:\", mean_squared_error(y_test, y_pred))\n",
    "print(\"MAE:\", mean_absolute_error(y_test, y_pred))\n",
    "print('RMSE: ', np.sqrt(mean_squared_error(y_test, y_pred)))"
   ]
  },
  {
   "cell_type": "markdown",
   "id": "38b67305",
   "metadata": {
    "papermill": {
     "duration": 0.015738,
     "end_time": "2025-10-30T13:01:35.341975",
     "exception": false,
     "start_time": "2025-10-30T13:01:35.326237",
     "status": "completed"
    },
    "tags": []
   },
   "source": [
    "## 4. Decision Tree"
   ]
  },
  {
   "cell_type": "code",
   "execution_count": 64,
   "id": "a452ba9e",
   "metadata": {
    "execution": {
     "iopub.execute_input": "2025-10-30T13:01:35.376951Z",
     "iopub.status.busy": "2025-10-30T13:01:35.376417Z",
     "iopub.status.idle": "2025-10-30T13:01:35.391365Z",
     "shell.execute_reply": "2025-10-30T13:01:35.390274Z"
    },
    "papermill": {
     "duration": 0.033785,
     "end_time": "2025-10-30T13:01:35.393051",
     "exception": false,
     "start_time": "2025-10-30T13:01:35.359266",
     "status": "completed"
    },
    "tags": []
   },
   "outputs": [
    {
     "name": "stdout",
     "output_type": "stream",
     "text": [
      "R2 Score: 91.88206690888077\n",
      "MSE: 18787936.304508373\n",
      "MAE: 3051.7593495306623\n",
      "RMSE:  4334.505312548177\n"
     ]
    }
   ],
   "source": [
    "from sklearn.tree import DecisionTreeRegressor\n",
    "\n",
    "model_DT = DecisionTreeRegressor()\n",
    "\n",
    "# training\n",
    "model_DT.fit(X_train, y_train)\n",
    "\n",
    "# predict\n",
    "y_pred = model_DT.predict(X_test) # which later can be used to compare y_pred with y_test\n",
    "\n",
    "# evaluation\n",
    "print(\"R2 Score:\", r2_score(y_test, y_pred)*100)\n",
    "print(\"MSE:\", mean_squared_error(y_test, y_pred))\n",
    "print(\"MAE:\", mean_absolute_error(y_test, y_pred))\n",
    "print('RMSE: ', np.sqrt(mean_squared_error(y_test, y_pred)))"
   ]
  },
  {
   "cell_type": "code",
   "execution_count": 65,
   "id": "f361ca52",
   "metadata": {
    "execution": {
     "iopub.execute_input": "2025-10-30T13:01:35.426388Z",
     "iopub.status.busy": "2025-10-30T13:01:35.426050Z",
     "iopub.status.idle": "2025-10-30T13:01:35.752117Z",
     "shell.execute_reply": "2025-10-30T13:01:35.750813Z"
    },
    "papermill": {
     "duration": 0.345204,
     "end_time": "2025-10-30T13:01:35.754146",
     "exception": false,
     "start_time": "2025-10-30T13:01:35.408942",
     "status": "completed"
    },
    "tags": []
   },
   "outputs": [
    {
     "name": "stdout",
     "output_type": "stream",
     "text": [
      "Simple Linear Regression:\n",
      "R2 Score: 77.03998725024894\n",
      "MSE: 53138065.10242495\n",
      "MAE: 5395.278946436077\n",
      "RMSE: 7289.586072091127\n",
      "\n",
      "\n",
      "Multiple Linear Regression:\n",
      "R2 Score: 77.03998725024894\n",
      "MSE: 53138065.10242495\n",
      "MAE: 5395.278946436077\n",
      "RMSE: 7289.586072091127\n",
      "\n",
      "\n",
      "Random Forest Regressor:\n",
      "R2 Score: 91.92469264753795\n",
      "MSE: 18689284.38734739\n",
      "MAE: 3015.486432717007\n",
      "RMSE: 4323.1104990906015\n",
      "\n",
      "\n",
      "Decision Tree Regressor:\n",
      "R2 Score: 91.87586943077021\n",
      "MSE: 18802279.58902218\n",
      "MAE: 3055.973035004852\n",
      "RMSE: 4336.159543769369\n",
      "\n",
      "\n",
      "The best model based on R2 Score is: Random Forest Regressor with R2 Score of 91.92%\n",
      "Random Forest Regressor:\n",
      "R2 Score: 91.92469264753795\n",
      "MSE: 18689284.38734739\n",
      "MAE: 3015.486432717007\n",
      "RMSE: 4323.1104990906015\n",
      "\n",
      "\n",
      "Decision Tree Regressor:\n",
      "R2 Score: 91.87586943077021\n",
      "MSE: 18802279.58902218\n",
      "MAE: 3055.973035004852\n",
      "RMSE: 4336.159543769369\n",
      "\n",
      "\n",
      "The best model based on R2 Score is: Random Forest Regressor with R2 Score of 91.92%\n"
     ]
    }
   ],
   "source": [
    "models = {\n",
    "    'Simple Linear Regression': model_linear,\n",
    "    'Multiple Linear Regression': model_multilinear,\n",
    "    'Random Forest Regressor': model_RF,\n",
    "    'Decision Tree Regressor': model_DT,\n",
    "}\n",
    "\n",
    "results = {}\n",
    "\n",
    "for name, model in models.items():\n",
    "    model.fit(X_train, y_train)\n",
    "    y_pred = model.predict(X_test)\n",
    "    r2 = r2_score(y_test, y_pred)\n",
    "    mse = mean_squared_error(y_test, y_pred)\n",
    "    mae = mean_absolute_error(y_test, y_pred)\n",
    "    rmse = np.sqrt(mean_squared_error(y_test, y_pred))\n",
    "\n",
    "    results[name] = {'R2 Score': r2, 'MSE': mse, 'MAE': mae, 'RMSE': rmse}\n",
    "    print(f'{name}:')\n",
    "    print(f'R2 Score: {r2*100}')\n",
    "    print(f'MSE: {mse}')\n",
    "    print(f'MAE: {mae}')\n",
    "    print(f'RMSE: {rmse}')\n",
    "    print('\\n')\n",
    "\n",
    "# Find the best model based on R2 Score\n",
    "best_model_name = max(results, key=lambda k: results[k]['R2 Score'])\n",
    "print(f'The best model based on R2 Score is: {best_model_name} with R2 Score of {results[best_model_name][\"R2 Score\"]*100:.2f}%')"
   ]
  },
  {
   "cell_type": "markdown",
   "id": "f4f72aaf",
   "metadata": {},
   "source": [
    "# Deployment"
   ]
  },
  {
   "cell_type": "markdown",
   "id": "afd8fb98",
   "metadata": {},
   "source": [
    "This notebook trains multiple regression models and selects the best model by R2 score.\n",
    "To make the chosen model available for a lightweight interactive demo, we save the best model to disk (Joblib) and load it from a small Gradio app (`app.py`) in the project root.\n",
    "\n",
    "Notes:\n",
    "- The Gradio demo expects the model to be saved as `best_model.joblib`.\n",
    "- The demo currently uses the features: `Model`, `Year`, `Color`, `Engine.Cap` (these are the features used in the notebook's multiple regression / comparison section). If you change feature columns, update `app.py` accordingly."
   ]
  },
  {
   "cell_type": "code",
   "execution_count": 66,
   "id": "4b2797e3",
   "metadata": {},
   "outputs": [
    {
     "name": "stdout",
     "output_type": "stream",
     "text": [
      "Saved best model (Random Forest Regressor) to best_model.joblib\n",
      "Saved encoders to encoders.joblib\n"
     ]
    }
   ],
   "source": [
    "# Save the best model to disk so external apps (e.g., Gradio) can load it.\n",
    "import joblib\n",
    "\n",
    "# Retrieve the best model object from the `models` dictionary\n",
    "try:\n",
    "    best_model = models[best_model_name]\n",
    "    joblib.dump(best_model, 'best_model.joblib')\n",
    "    print(f'Saved best model ({best_model_name}) to best_model.joblib')\n",
    "except Exception as e:\n",
    "    print('Could not save best model automatically. Make sure `models` and `best_model_name` exist and are fitted.')\n",
    "    print('Error:', e)\n",
    "\n",
    "# Save label encoders (if present) so external apps can map human-readable categories\n",
    "try:\n",
    "    joblib.dump(encoders, 'encoders.joblib')\n",
    "    print('Saved encoders to encoders.joblib')\n",
    "except Exception as e:\n",
    "    print('No `encoders` dict found or could not save encoders:', e)"
   ]
  },
  {
   "cell_type": "code",
   "execution_count": null,
   "id": "b14b8cc6",
   "metadata": {},
   "outputs": [
    {
     "name": "stdout",
     "output_type": "stream",
     "text": [
      "* Running on local URL:  http://127.0.0.1:7862\n",
      "* Running on public URL: https://a428e3a4d4556d377d.gradio.live\n",
      "\n",
      "This share link expires in 1 week. For free permanent hosting and GPU upgrades, run `gradio deploy` from the terminal in the working directory to deploy to Hugging Face Spaces (https://huggingface.co/spaces)\n",
      "* Running on public URL: https://a428e3a4d4556d377d.gradio.live\n",
      "\n",
      "This share link expires in 1 week. For free permanent hosting and GPU upgrades, run `gradio deploy` from the terminal in the working directory to deploy to Hugging Face Spaces (https://huggingface.co/spaces)\n"
     ]
    },
    {
     "data": {
      "text/html": [
       "<div><iframe src=\"https://a428e3a4d4556d377d.gradio.live\" width=\"100%\" height=\"500\" allow=\"autoplay; camera; microphone; clipboard-read; clipboard-write;\" frameborder=\"0\" allowfullscreen></iframe></div>"
      ],
      "text/plain": [
       "<IPython.core.display.HTML object>"
      ]
     },
     "metadata": {},
     "output_type": "display_data"
    },
    {
     "name": "stderr",
     "output_type": "stream",
     "text": [
      "ERROR:    Exception in ASGI application\n",
      "Traceback (most recent call last):\n",
      "  File \"c:\\Users\\user\\AppData\\Local\\Programs\\Python\\Python312\\Lib\\site-packages\\uvicorn\\protocols\\http\\h11_impl.py\", line 403, in run_asgi\n",
      "    result = await app(  # type: ignore[func-returns-value]\n",
      "             ^^^^^^^^^^^^^^^^^^^^^^^^^^^^^^^^^^^^^^^^^^^^^^\n",
      "  File \"c:\\Users\\user\\AppData\\Local\\Programs\\Python\\Python312\\Lib\\site-packages\\uvicorn\\middleware\\proxy_headers.py\", line 60, in __call__\n",
      "    return await self.app(scope, receive, send)\n",
      "           ^^^^^^^^^^^^^^^^^^^^^^^^^^^^^^^^^^^^\n",
      "  File \"c:\\Users\\user\\AppData\\Local\\Programs\\Python\\Python312\\Lib\\site-packages\\fastapi\\applications.py\", line 1134, in __call__\n",
      "    await super().__call__(scope, receive, send)\n",
      "  File \"c:\\Users\\user\\AppData\\Local\\Programs\\Python\\Python312\\Lib\\site-packages\\starlette\\applications.py\", line 113, in __call__\n",
      "    await self.middleware_stack(scope, receive, send)\n",
      "  File \"c:\\Users\\user\\AppData\\Local\\Programs\\Python\\Python312\\Lib\\site-packages\\starlette\\middleware\\errors.py\", line 186, in __call__\n",
      "    raise exc\n",
      "  File \"c:\\Users\\user\\AppData\\Local\\Programs\\Python\\Python312\\Lib\\site-packages\\starlette\\middleware\\errors.py\", line 164, in __call__\n",
      "    await self.app(scope, receive, _send)\n",
      "  File \"c:\\Users\\user\\AppData\\Local\\Programs\\Python\\Python312\\Lib\\site-packages\\gradio\\brotli_middleware.py\", line 74, in __call__\n",
      "    return await self.app(scope, receive, send)\n",
      "           ^^^^^^^^^^^^^^^^^^^^^^^^^^^^^^^^^^^^\n",
      "  File \"c:\\Users\\user\\AppData\\Local\\Programs\\Python\\Python312\\Lib\\site-packages\\gradio\\route_utils.py\", line 882, in __call__\n",
      "    await self.app(scope, receive, send)\n",
      "  File \"c:\\Users\\user\\AppData\\Local\\Programs\\Python\\Python312\\Lib\\site-packages\\starlette\\middleware\\exceptions.py\", line 63, in __call__\n",
      "    await wrap_app_handling_exceptions(self.app, conn)(scope, receive, send)\n",
      "  File \"c:\\Users\\user\\AppData\\Local\\Programs\\Python\\Python312\\Lib\\site-packages\\starlette\\_exception_handler.py\", line 53, in wrapped_app\n",
      "    raise exc\n",
      "  File \"c:\\Users\\user\\AppData\\Local\\Programs\\Python\\Python312\\Lib\\site-packages\\starlette\\_exception_handler.py\", line 42, in wrapped_app\n",
      "    await app(scope, receive, sender)\n",
      "  File \"c:\\Users\\user\\AppData\\Local\\Programs\\Python\\Python312\\Lib\\site-packages\\fastapi\\middleware\\asyncexitstack.py\", line 18, in __call__\n",
      "    await self.app(scope, receive, send)\n",
      "  File \"c:\\Users\\user\\AppData\\Local\\Programs\\Python\\Python312\\Lib\\site-packages\\starlette\\routing.py\", line 716, in __call__\n",
      "    await self.middleware_stack(scope, receive, send)\n",
      "  File \"c:\\Users\\user\\AppData\\Local\\Programs\\Python\\Python312\\Lib\\site-packages\\starlette\\routing.py\", line 736, in app\n",
      "    await route.handle(scope, receive, send)\n",
      "  File \"c:\\Users\\user\\AppData\\Local\\Programs\\Python\\Python312\\Lib\\site-packages\\starlette\\routing.py\", line 290, in handle\n",
      "    await self.app(scope, receive, send)\n",
      "  File \"c:\\Users\\user\\AppData\\Local\\Programs\\Python\\Python312\\Lib\\site-packages\\fastapi\\routing.py\", line 124, in app\n",
      "    await wrap_app_handling_exceptions(app, request)(scope, receive, send)\n",
      "  File \"c:\\Users\\user\\AppData\\Local\\Programs\\Python\\Python312\\Lib\\site-packages\\starlette\\_exception_handler.py\", line 53, in wrapped_app\n",
      "    raise exc\n",
      "  File \"c:\\Users\\user\\AppData\\Local\\Programs\\Python\\Python312\\Lib\\site-packages\\starlette\\_exception_handler.py\", line 42, in wrapped_app\n",
      "    await app(scope, receive, sender)\n",
      "  File \"c:\\Users\\user\\AppData\\Local\\Programs\\Python\\Python312\\Lib\\site-packages\\fastapi\\routing.py\", line 110, in app\n",
      "    response = await f(request)\n",
      "               ^^^^^^^^^^^^^^^^\n",
      "  File \"c:\\Users\\user\\AppData\\Local\\Programs\\Python\\Python312\\Lib\\site-packages\\fastapi\\routing.py\", line 390, in app\n",
      "    raw_response = await run_endpoint_function(\n",
      "                   ^^^^^^^^^^^^^^^^^^^^^^^^^^^^\n",
      "  File \"c:\\Users\\user\\AppData\\Local\\Programs\\Python\\Python312\\Lib\\site-packages\\fastapi\\routing.py\", line 289, in run_endpoint_function\n",
      "    return await dependant.call(**values)\n",
      "           ^^^^^^^^^^^^^^^^^^^^^^^^^^^^^^\n",
      "  File \"c:\\Users\\user\\AppData\\Local\\Programs\\Python\\Python312\\Lib\\site-packages\\gradio\\routes.py\", line 1671, in get_upload_progress\n",
      "    await asyncio.wait_for(\n",
      "  File \"c:\\Users\\user\\AppData\\Local\\Programs\\Python\\Python312\\Lib\\asyncio\\tasks.py\", line 510, in wait_for\n",
      "    return await fut\n",
      "           ^^^^^^^^^\n",
      "  File \"c:\\Users\\user\\AppData\\Local\\Programs\\Python\\Python312\\Lib\\site-packages\\gradio\\route_utils.py\", line 528, in is_tracked\n",
      "    return await self._signals[upload_id].wait()\n",
      "           ^^^^^^^^^^^^^^^^^^^^^^^^^^^^^^^^^^^^^\n",
      "  File \"c:\\Users\\user\\AppData\\Local\\Programs\\Python\\Python312\\Lib\\asyncio\\locks.py\", line 209, in wait\n",
      "    fut = self._get_loop().create_future()\n",
      "          ^^^^^^^^^^^^^^^^\n",
      "  File \"c:\\Users\\user\\AppData\\Local\\Programs\\Python\\Python312\\Lib\\asyncio\\mixins.py\", line 20, in _get_loop\n",
      "    raise RuntimeError(f'{self!r} is bound to a different event loop')\n",
      "RuntimeError: <asyncio.locks.Event object at 0x0000027E43780E90 [unset]> is bound to a different event loop\n",
      "ERROR:    Exception in ASGI application\n",
      "Traceback (most recent call last):\n",
      "  File \"c:\\Users\\user\\AppData\\Local\\Programs\\Python\\Python312\\Lib\\site-packages\\uvicorn\\protocols\\http\\h11_impl.py\", line 403, in run_asgi\n",
      "    result = await app(  # type: ignore[func-returns-value]\n",
      "             ^^^^^^^^^^^^^^^^^^^^^^^^^^^^^^^^^^^^^^^^^^^^^^\n",
      "  File \"c:\\Users\\user\\AppData\\Local\\Programs\\Python\\Python312\\Lib\\site-packages\\uvicorn\\middleware\\proxy_headers.py\", line 60, in __call__\n",
      "    return await self.app(scope, receive, send)\n",
      "           ^^^^^^^^^^^^^^^^^^^^^^^^^^^^^^^^^^^^\n",
      "  File \"c:\\Users\\user\\AppData\\Local\\Programs\\Python\\Python312\\Lib\\site-packages\\fastapi\\applications.py\", line 1134, in __call__\n",
      "    await super().__call__(scope, receive, send)\n",
      "  File \"c:\\Users\\user\\AppData\\Local\\Programs\\Python\\Python312\\Lib\\site-packages\\starlette\\applications.py\", line 113, in __call__\n",
      "    await self.middleware_stack(scope, receive, send)\n",
      "  File \"c:\\Users\\user\\AppData\\Local\\Programs\\Python\\Python312\\Lib\\site-packages\\starlette\\middleware\\errors.py\", line 186, in __call__\n",
      "    raise exc\n",
      "  File \"c:\\Users\\user\\AppData\\Local\\Programs\\Python\\Python312\\Lib\\site-packages\\starlette\\middleware\\errors.py\", line 164, in __call__\n",
      "    await self.app(scope, receive, _send)\n",
      "  File \"c:\\Users\\user\\AppData\\Local\\Programs\\Python\\Python312\\Lib\\site-packages\\gradio\\brotli_middleware.py\", line 74, in __call__\n",
      "    return await self.app(scope, receive, send)\n",
      "           ^^^^^^^^^^^^^^^^^^^^^^^^^^^^^^^^^^^^\n",
      "  File \"c:\\Users\\user\\AppData\\Local\\Programs\\Python\\Python312\\Lib\\site-packages\\gradio\\route_utils.py\", line 882, in __call__\n",
      "    await self.app(scope, receive, send)\n",
      "  File \"c:\\Users\\user\\AppData\\Local\\Programs\\Python\\Python312\\Lib\\site-packages\\starlette\\middleware\\exceptions.py\", line 63, in __call__\n",
      "    await wrap_app_handling_exceptions(self.app, conn)(scope, receive, send)\n",
      "  File \"c:\\Users\\user\\AppData\\Local\\Programs\\Python\\Python312\\Lib\\site-packages\\starlette\\_exception_handler.py\", line 53, in wrapped_app\n",
      "    raise exc\n",
      "  File \"c:\\Users\\user\\AppData\\Local\\Programs\\Python\\Python312\\Lib\\site-packages\\starlette\\_exception_handler.py\", line 42, in wrapped_app\n",
      "    await app(scope, receive, sender)\n",
      "  File \"c:\\Users\\user\\AppData\\Local\\Programs\\Python\\Python312\\Lib\\site-packages\\fastapi\\middleware\\asyncexitstack.py\", line 18, in __call__\n",
      "    await self.app(scope, receive, send)\n",
      "  File \"c:\\Users\\user\\AppData\\Local\\Programs\\Python\\Python312\\Lib\\site-packages\\starlette\\routing.py\", line 716, in __call__\n",
      "    await self.middleware_stack(scope, receive, send)\n",
      "  File \"c:\\Users\\user\\AppData\\Local\\Programs\\Python\\Python312\\Lib\\site-packages\\starlette\\routing.py\", line 736, in app\n",
      "    await route.handle(scope, receive, send)\n",
      "  File \"c:\\Users\\user\\AppData\\Local\\Programs\\Python\\Python312\\Lib\\site-packages\\starlette\\routing.py\", line 290, in handle\n",
      "    await self.app(scope, receive, send)\n",
      "  File \"c:\\Users\\user\\AppData\\Local\\Programs\\Python\\Python312\\Lib\\site-packages\\fastapi\\routing.py\", line 124, in app\n",
      "    await wrap_app_handling_exceptions(app, request)(scope, receive, send)\n",
      "  File \"c:\\Users\\user\\AppData\\Local\\Programs\\Python\\Python312\\Lib\\site-packages\\starlette\\_exception_handler.py\", line 53, in wrapped_app\n",
      "    raise exc\n",
      "  File \"c:\\Users\\user\\AppData\\Local\\Programs\\Python\\Python312\\Lib\\site-packages\\starlette\\_exception_handler.py\", line 42, in wrapped_app\n",
      "    await app(scope, receive, sender)\n",
      "  File \"c:\\Users\\user\\AppData\\Local\\Programs\\Python\\Python312\\Lib\\site-packages\\fastapi\\routing.py\", line 110, in app\n",
      "    response = await f(request)\n",
      "               ^^^^^^^^^^^^^^^^\n",
      "  File \"c:\\Users\\user\\AppData\\Local\\Programs\\Python\\Python312\\Lib\\site-packages\\fastapi\\routing.py\", line 390, in app\n",
      "    raw_response = await run_endpoint_function(\n",
      "                   ^^^^^^^^^^^^^^^^^^^^^^^^^^^^\n",
      "  File \"c:\\Users\\user\\AppData\\Local\\Programs\\Python\\Python312\\Lib\\site-packages\\fastapi\\routing.py\", line 289, in run_endpoint_function\n",
      "    return await dependant.call(**values)\n",
      "           ^^^^^^^^^^^^^^^^^^^^^^^^^^^^^^\n",
      "  File \"c:\\Users\\user\\AppData\\Local\\Programs\\Python\\Python312\\Lib\\site-packages\\gradio\\routes.py\", line 1671, in get_upload_progress\n",
      "    await asyncio.wait_for(\n",
      "  File \"c:\\Users\\user\\AppData\\Local\\Programs\\Python\\Python312\\Lib\\asyncio\\tasks.py\", line 510, in wait_for\n",
      "    return await fut\n",
      "           ^^^^^^^^^\n",
      "  File \"c:\\Users\\user\\AppData\\Local\\Programs\\Python\\Python312\\Lib\\site-packages\\gradio\\route_utils.py\", line 528, in is_tracked\n",
      "    return await self._signals[upload_id].wait()\n",
      "           ^^^^^^^^^^^^^^^^^^^^^^^^^^^^^^^^^^^^^\n",
      "  File \"c:\\Users\\user\\AppData\\Local\\Programs\\Python\\Python312\\Lib\\asyncio\\locks.py\", line 209, in wait\n",
      "    fut = self._get_loop().create_future()\n",
      "          ^^^^^^^^^^^^^^^^\n",
      "  File \"c:\\Users\\user\\AppData\\Local\\Programs\\Python\\Python312\\Lib\\asyncio\\mixins.py\", line 20, in _get_loop\n",
      "    raise RuntimeError(f'{self!r} is bound to a different event loop')\n",
      "RuntimeError: <asyncio.locks.Event object at 0x0000027E43780E90 [unset]> is bound to a different event loop\n",
      "ERROR:    Exception in ASGI application\n",
      "Traceback (most recent call last):\n",
      "  File \"c:\\Users\\user\\AppData\\Local\\Programs\\Python\\Python312\\Lib\\site-packages\\uvicorn\\protocols\\http\\h11_impl.py\", line 403, in run_asgi\n",
      "    result = await app(  # type: ignore[func-returns-value]\n",
      "             ^^^^^^^^^^^^^^^^^^^^^^^^^^^^^^^^^^^^^^^^^^^^^^\n",
      "  File \"c:\\Users\\user\\AppData\\Local\\Programs\\Python\\Python312\\Lib\\site-packages\\uvicorn\\middleware\\proxy_headers.py\", line 60, in __call__\n",
      "    return await self.app(scope, receive, send)\n",
      "           ^^^^^^^^^^^^^^^^^^^^^^^^^^^^^^^^^^^^\n",
      "  File \"c:\\Users\\user\\AppData\\Local\\Programs\\Python\\Python312\\Lib\\site-packages\\fastapi\\applications.py\", line 1134, in __call__\n",
      "    await super().__call__(scope, receive, send)\n",
      "  File \"c:\\Users\\user\\AppData\\Local\\Programs\\Python\\Python312\\Lib\\site-packages\\starlette\\applications.py\", line 113, in __call__\n",
      "    await self.middleware_stack(scope, receive, send)\n",
      "  File \"c:\\Users\\user\\AppData\\Local\\Programs\\Python\\Python312\\Lib\\site-packages\\starlette\\middleware\\errors.py\", line 186, in __call__\n",
      "    raise exc\n",
      "  File \"c:\\Users\\user\\AppData\\Local\\Programs\\Python\\Python312\\Lib\\site-packages\\starlette\\middleware\\errors.py\", line 164, in __call__\n",
      "    await self.app(scope, receive, _send)\n",
      "  File \"c:\\Users\\user\\AppData\\Local\\Programs\\Python\\Python312\\Lib\\site-packages\\gradio\\brotli_middleware.py\", line 74, in __call__\n",
      "    return await self.app(scope, receive, send)\n",
      "           ^^^^^^^^^^^^^^^^^^^^^^^^^^^^^^^^^^^^\n",
      "  File \"c:\\Users\\user\\AppData\\Local\\Programs\\Python\\Python312\\Lib\\site-packages\\gradio\\route_utils.py\", line 882, in __call__\n",
      "    await self.app(scope, receive, send)\n",
      "  File \"c:\\Users\\user\\AppData\\Local\\Programs\\Python\\Python312\\Lib\\site-packages\\starlette\\middleware\\exceptions.py\", line 63, in __call__\n",
      "    await wrap_app_handling_exceptions(self.app, conn)(scope, receive, send)\n",
      "  File \"c:\\Users\\user\\AppData\\Local\\Programs\\Python\\Python312\\Lib\\site-packages\\starlette\\_exception_handler.py\", line 53, in wrapped_app\n",
      "    raise exc\n",
      "  File \"c:\\Users\\user\\AppData\\Local\\Programs\\Python\\Python312\\Lib\\site-packages\\starlette\\_exception_handler.py\", line 42, in wrapped_app\n",
      "    await app(scope, receive, sender)\n",
      "  File \"c:\\Users\\user\\AppData\\Local\\Programs\\Python\\Python312\\Lib\\site-packages\\fastapi\\middleware\\asyncexitstack.py\", line 18, in __call__\n",
      "    await self.app(scope, receive, send)\n",
      "  File \"c:\\Users\\user\\AppData\\Local\\Programs\\Python\\Python312\\Lib\\site-packages\\starlette\\routing.py\", line 716, in __call__\n",
      "    await self.middleware_stack(scope, receive, send)\n",
      "  File \"c:\\Users\\user\\AppData\\Local\\Programs\\Python\\Python312\\Lib\\site-packages\\starlette\\routing.py\", line 736, in app\n",
      "    await route.handle(scope, receive, send)\n",
      "  File \"c:\\Users\\user\\AppData\\Local\\Programs\\Python\\Python312\\Lib\\site-packages\\starlette\\routing.py\", line 290, in handle\n",
      "    await self.app(scope, receive, send)\n",
      "  File \"c:\\Users\\user\\AppData\\Local\\Programs\\Python\\Python312\\Lib\\site-packages\\fastapi\\routing.py\", line 124, in app\n",
      "    await wrap_app_handling_exceptions(app, request)(scope, receive, send)\n",
      "  File \"c:\\Users\\user\\AppData\\Local\\Programs\\Python\\Python312\\Lib\\site-packages\\starlette\\_exception_handler.py\", line 53, in wrapped_app\n",
      "    raise exc\n",
      "  File \"c:\\Users\\user\\AppData\\Local\\Programs\\Python\\Python312\\Lib\\site-packages\\starlette\\_exception_handler.py\", line 42, in wrapped_app\n",
      "    await app(scope, receive, sender)\n",
      "  File \"c:\\Users\\user\\AppData\\Local\\Programs\\Python\\Python312\\Lib\\site-packages\\fastapi\\routing.py\", line 110, in app\n",
      "    response = await f(request)\n",
      "               ^^^^^^^^^^^^^^^^\n",
      "  File \"c:\\Users\\user\\AppData\\Local\\Programs\\Python\\Python312\\Lib\\site-packages\\fastapi\\routing.py\", line 390, in app\n",
      "    raw_response = await run_endpoint_function(\n",
      "                   ^^^^^^^^^^^^^^^^^^^^^^^^^^^^\n",
      "  File \"c:\\Users\\user\\AppData\\Local\\Programs\\Python\\Python312\\Lib\\site-packages\\fastapi\\routing.py\", line 289, in run_endpoint_function\n",
      "    return await dependant.call(**values)\n",
      "           ^^^^^^^^^^^^^^^^^^^^^^^^^^^^^^\n",
      "  File \"c:\\Users\\user\\AppData\\Local\\Programs\\Python\\Python312\\Lib\\site-packages\\gradio\\routes.py\", line 1671, in get_upload_progress\n",
      "    await asyncio.wait_for(\n",
      "  File \"c:\\Users\\user\\AppData\\Local\\Programs\\Python\\Python312\\Lib\\asyncio\\tasks.py\", line 510, in wait_for\n",
      "    return await fut\n",
      "           ^^^^^^^^^\n",
      "  File \"c:\\Users\\user\\AppData\\Local\\Programs\\Python\\Python312\\Lib\\site-packages\\gradio\\route_utils.py\", line 528, in is_tracked\n",
      "    return await self._signals[upload_id].wait()\n",
      "           ^^^^^^^^^^^^^^^^^^^^^^^^^^^^^^^^^^^^^\n",
      "  File \"c:\\Users\\user\\AppData\\Local\\Programs\\Python\\Python312\\Lib\\asyncio\\locks.py\", line 209, in wait\n",
      "    fut = self._get_loop().create_future()\n",
      "          ^^^^^^^^^^^^^^^^\n",
      "  File \"c:\\Users\\user\\AppData\\Local\\Programs\\Python\\Python312\\Lib\\asyncio\\mixins.py\", line 20, in _get_loop\n",
      "    raise RuntimeError(f'{self!r} is bound to a different event loop')\n",
      "RuntimeError: <asyncio.locks.Event object at 0x0000027E43780E90 [unset]> is bound to a different event loop\n"
     ]
    }
   ],
   "source": [
    "import os\n",
    "import joblib\n",
    "import pandas as pd\n",
    "import numpy as np\n",
    "import tempfile\n",
    "import gradio as gr\n",
    "\n",
    "# Feature columns used by the notebook's final comparison (adjust if you changed features)\n",
    "FEATURE_COLS = ['Model', 'Year', 'Color', 'Engine.Cap']\n",
    "\n",
    "\n",
    "def load_model(path='best_model.joblib'):\n",
    "    if not os.path.exists(path):\n",
    "        raise FileNotFoundError(\n",
    "            f\"Model file '{path}' not found. Run the notebook cell that saves the best model to 'best_model.joblib' and ensure it's in the project root.\"\n",
    "        )\n",
    "    return joblib.load(path)\n",
    "\n",
    "\n",
    "try:\n",
    "    model = load_model()\n",
    "except Exception as exc:\n",
    "    model = None\n",
    "    load_error = str(exc)\n",
    "else:\n",
    "    load_error = None\n",
    "\n",
    "# Try to load encoders (saved from the notebook) if available\n",
    "encoders = None\n",
    "enc_load_error = None\n",
    "if os.path.exists('encoders.joblib'):\n",
    "    try:\n",
    "        encoders = joblib.load('encoders.joblib')\n",
    "    except Exception as e:\n",
    "        enc_load_error = str(e)\n",
    "\n",
    "\n",
    "def safe_encode(col_name, val):\n",
    "    \"\"\"\n",
    "    If encoders exist and contain col_name, try to transform val using the encoder.\n",
    "    If encoder missing, attempt to cast to float and return numeric value.\n",
    "    On unknown label, raise ValueError with informative message.\n",
    "    \"\"\"\n",
    "    if encoders is not None and col_name in encoders:\n",
    "        le = encoders[col_name]\n",
    "        try:\n",
    "            return le.transform([val])[0]\n",
    "        except Exception:\n",
    "            # unknown label\n",
    "            raise ValueError(f\"Unknown {col_name} '{val}'. Allowed values: {list(le.classes_)}\")\n",
    "    else:\n",
    "        # no encoder: try numeric fallback\n",
    "        try:\n",
    "            return float(val)\n",
    "        except Exception:\n",
    "            raise ValueError(f\"No encoder for '{col_name}' and provided value is not numeric. Provide numeric value or save encoders.joblib.\")\n",
    "\n",
    "\n",
    "def predict_price(model_name: str, year: float, color: str, engine_cap: float):\n",
    "    \"\"\"\n",
    "    Simple wrapper to predict price for a single example.\n",
    "    Returns a string formatted with two decimal places (e.g. '43281.21').\n",
    "    \"\"\"\n",
    "    if model is None:\n",
    "        return f\"Model not loaded: {load_error}\"\n",
    "\n",
    "    try:\n",
    "        model_encoded = safe_encode('Model', model_name)\n",
    "        color_encoded = safe_encode('Color', color)\n",
    "        engine_encoded = safe_encode('Engine.Cap', engine_cap)\n",
    "    except ValueError as ve:\n",
    "        return str(ve)\n",
    "\n",
    "    # Year should be numeric; try to coerce\n",
    "    try:\n",
    "        year_val = float(year)\n",
    "    except Exception:\n",
    "        return \"Year must be numeric.\"\n",
    "\n",
    "    X = pd.DataFrame([[model_encoded, year_val, color_encoded, engine_encoded]], columns=FEATURE_COLS)\n",
    "    pred = model.predict(X)[0]\n",
    "    # Return formatted string with two decimals so the UI shows exactly two decimals\n",
    "    return f\"{pred:.2f}\"\n",
    "\n",
    "\n",
    "def batch_predict(csv_file):\n",
    "    \"\"\"Accepts a CSV file with the same feature columns and returns predictions appended.\n",
    "\n",
    "    Output columns (display): Model, Year, Color, Engine Capacity, Price (Predicted)\n",
    "    \"\"\"\n",
    "    if model is None:\n",
    "        raise ValueError(f\"Model not loaded: {load_error}\")\n",
    "\n",
    "    # Read uploaded CSV (gr.File gives .name)\n",
    "    df = pd.read_csv(csv_file.name)\n",
    "\n",
    "    # Accept either 'Engine.Cap' or 'Engine Capacity' as input; normalize to 'Engine.Cap'\n",
    "    if 'Engine Capacity' in df.columns and 'Engine.Cap' not in df.columns:\n",
    "        df['Engine.Cap'] = df['Engine Capacity']\n",
    "\n",
    "    required = ['Model', 'Year', 'Color', 'Engine.Cap']\n",
    "    missing = [c for c in required if c not in df.columns]\n",
    "    if missing:\n",
    "        raise ValueError(f\"Uploaded CSV is missing required columns: {missing}\")\n",
    "\n",
    "    # Preserve original human-readable columns for display\n",
    "    df['_orig_Model'] = df['Model'].astype(str)\n",
    "    df['_orig_Color'] = df['Color'].astype(str)\n",
    "    df['_orig_Engine_Cap'] = df['Engine.Cap']\n",
    "\n",
    "    # Prepare encoded columns for prediction\n",
    "    def prepare_encoding(col):\n",
    "        enc_col = f\"{col}_enc\"\n",
    "        if encoders is not None and col in encoders:\n",
    "            # If column contains object (strings), check for unknowns and transform\n",
    "            if df[col].dtype == object:\n",
    "                unknowns = set(df[col][~df[col].isin(encoders[col].classes_)])\n",
    "                if len(unknowns) > 0:\n",
    "                    raise ValueError(f\"Uploaded CSV contains unknown {col} labels: {list(unknowns)}. Allowed: {list(encoders[col].classes_)}\")\n",
    "                df[enc_col] = encoders[col].transform(df[col])\n",
    "            else:\n",
    "                try:\n",
    "                    # try transforming stringified values\n",
    "                    df[enc_col] = encoders[col].transform(df[col].astype(str))\n",
    "                except Exception:\n",
    "                    df[enc_col] = pd.to_numeric(df[col], errors='coerce')\n",
    "        else:\n",
    "            df[enc_col] = pd.to_numeric(df[col], errors='coerce')\n",
    "\n",
    "    prepare_encoding('Model')\n",
    "    prepare_encoding('Color')\n",
    "    prepare_encoding('Engine.Cap')\n",
    "\n",
    "    # Ensure Year is numeric\n",
    "    df['Year'] = pd.to_numeric(df['Year'], errors='coerce')\n",
    "\n",
    "    # Build the prediction DataFrame using the SAME feature names used during training.\n",
    "    # This is the critical fix: rename encoded columns back to the original feature names.\n",
    "    X_for_pred = pd.DataFrame({\n",
    "        'Model': df['Model_enc'],\n",
    "        'Year': df['Year'],\n",
    "        'Color': df['Color_enc'],\n",
    "        'Engine.Cap': df['Engine.Cap_enc']\n",
    "    })\n",
    "\n",
    "    if X_for_pred.isnull().any(axis=1).any():\n",
    "        bad = X_for_pred.isnull().any(axis=1)\n",
    "        raise ValueError(\"Uploaded CSV contains non-numeric or missing values in required columns after processing. Problem rows (sample):\\n\"\n",
    "                         + df.loc[bad, ['Model', 'Year', 'Color', 'Engine.Cap']].head(5).to_csv(index=False))\n",
    "\n",
    "    # Now call model.predict with the DataFrame that has the same column names as at fit time\n",
    "    preds = model.predict(X_for_pred)\n",
    "    # Format predicted prices as two-decimal strings to guarantee display (e.g. '43281.21')\n",
    "    df['Predicted Price (RM)'] = [f\"{v:.2f}\" for v in preds]\n",
    "\n",
    "    # Build the display DataFrame with requested column names/order\n",
    "    # Keep human-readable Model and Color values\n",
    "    out = pd.DataFrame({\n",
    "        'Model': df['_orig_Model'],\n",
    "        'Year': df['Year'].astype(int) if not df['Year'].isnull().any() else df['Year'],\n",
    "        'Color': df['_orig_Color'],\n",
    "        'Engine Capacity': df['_orig_Engine_Cap'],\n",
    "        'Predicted Price (RM)': df['Predicted Price (RM)']\n",
    "    })\n",
    "    return out\n",
    "\n",
    "def batch_predict_file(csv_file):\n",
    "    \"\"\"\n",
    "    Run batch prediction and write results to a temporary CSV file.\n",
    "    Returns the path to the generated CSV, suitable for Gradio File output.\n",
    "    \"\"\"\n",
    "    if csv_file is None:\n",
    "        raise ValueError(\"No CSV file provided for download.\")\n",
    "    # Reuse batch_predict to produce the DataFrame (this will raise informative errors if input invalid)\n",
    "    out_df = batch_predict(csv_file)\n",
    "    # Write to a temp file and return its path (Gradio accepts a filepath for File output)\n",
    "    tmp = tempfile.NamedTemporaryFile(delete=False, suffix=\".csv\")\n",
    "    out_df.to_csv(tmp.name, index=False)\n",
    "    tmp.close()\n",
    "    return tmp.name\n",
    "\n",
    "\n",
    "def batch_predict_and_file(csv_file):\n",
    "    \"\"\"\n",
    "    Run batch prediction and return both the display DataFrame and a temp CSV path\n",
    "    so a single Gradio action can update the Dataframe and provide a downloadable file.\n",
    "    \"\"\"\n",
    "    if csv_file is None:\n",
    "        raise ValueError(\"No CSV file provided for download.\")\n",
    "\n",
    "    # Produce DataFrame using existing batch_predict (this raises clear errors on invalid input)\n",
    "    out_df = batch_predict(csv_file)\n",
    "\n",
    "    # Write results to a temp CSV and return both outputs\n",
    "    tmp = tempfile.NamedTemporaryFile(delete=False, suffix=\".csv\")\n",
    "    out_df.to_csv(tmp.name, index=False)\n",
    "    tmp.close()\n",
    "    return out_df, tmp.name\n",
    "\n",
    "def clear_batch_outputs():\n",
    "    \"\"\"\n",
    "    Clear the batch outputs displayed in the UI.\n",
    "    Returns an empty DataFrame for the table and None for the file output so Gradio clears both.\n",
    "    \"\"\"\n",
    "    return pd.DataFrame(), None\n",
    "\n",
    "\n",
    "# Prepare dropdown options based on encoders if available (fallbacks handled in UI creation)\n",
    "model_choices = list(encoders['Model'].classes_) if encoders is not None and 'Model' in encoders else []\n",
    "color_choices = list(encoders['Color'].classes_) if encoders is not None and 'Color' in encoders else []\n",
    "engine_choices = list(encoders['Engine.Cap'].classes_) if encoders is not None and 'Engine.Cap' in encoders else [] \n",
    "engine_choices = list(encoders['Engine.Cap'].classes_) if encoders is not None and 'Engine.Cap' in encoders else []\n",
    "\n",
    "title = \"Perodua Car Price Predictor\"\n",
    "description = \"Single prediction or upload a CSV for batch predictions.\"\n",
    "\n",
    "# Build Gradio app using Blocks with Tabs\n",
    "with gr.Blocks() as demo:\n",
    "    gr.Markdown(f\"## {title}\\n\\n{description}\")\n",
    "\n",
    "    with gr.Tab(\"Single\"):\n",
    "        # Model input: dropdown if encoder present, otherwise textbox\n",
    "        if model_choices:\n",
    "            model_input = gr.Dropdown(choices=model_choices, label=\"Model\", value=model_choices[0])\n",
    "        else:\n",
    "            model_input = gr.Textbox(label=\"Model (no encoders found; enter encoded numeric or save encoders)\", value=\"\")\n",
    "\n",
    "        year_input = gr.Number(label=\"Year\", value=2016)\n",
    "\n",
    "        # Color input\n",
    "        if color_choices:\n",
    "            color_input = gr.Dropdown(choices=color_choices, label=\"Color\", value=color_choices[0])\n",
    "        else:\n",
    "            color_input = gr.Textbox(label=\"Color (no encoders found; enter encoded numeric or save encoders)\", value=\"\")\n",
    "\n",
    "        # Engine Capacity: if encoder exists, use dropdown; else use Number input\n",
    "        if engine_choices:\n",
    "            engine_input = gr.Dropdown(choices=engine_choices, label=\"Engine Capacity\", value=engine_choices[0])\n",
    "        else:\n",
    "            engine_input = gr.Number(label=\"Engine Capacity\", value=1600)\n",
    "\n",
    "        predict_btn = gr.Button(\"Predict\")\n",
    "        # Use a Textbox to display formatted price (exactly two decimals)\n",
    "        single_out = gr.Textbox(label=\"Predicted Price (RM)\")\n",
    "\n",
    "        predict_btn.click(fn=predict_price, inputs=[model_input, year_input, color_input, engine_input], outputs=single_out)\n",
    "\n",
    "    with gr.Tab(\"Batch\"):\n",
    "        gr.Markdown(\"Upload CSV with columns: Model, Year, Color, Engine.Cap (or 'Engine Capacity').\")\n",
    "        csv_input = gr.File(label=\"Upload CSV\", file_types=['.csv'])\n",
    "\n",
    "        # Predict -> show table and generate downloadable CSV\n",
    "        batch_btn = gr.Button(\"Predict & Prepare Download\")\n",
    "        df_out = gr.Dataframe(headers=None)\n",
    "        file_out = gr.File(label=\"Download Predictions (CSV)\")\n",
    "\n",
    "        # Single click will update both the table and provide a downloadable CSV\n",
    "        batch_btn.click(fn=batch_predict_and_file, inputs=csv_input, outputs=[df_out, file_out])\n",
    "\n",
    "        # Clear (✖) button — clears the table and removes the file link\n",
    "        clear_btn = gr.Button(\"✖ Clear Output\", variant=\"secondary\")\n",
    "        clear_btn.click(fn=clear_batch_outputs, inputs=[], outputs=[df_out, file_out])\n",
    "\n",
    "# Launch app\n",
    "def main():\n",
    "    demo.launch(share=True)\n",
    "\n",
    "\n",
    "if __name__ == '__main__':\n",
    "    main()"
   ]
  }
 ],
 "metadata": {
  "kaggle": {
   "accelerator": "none",
   "dataSources": [
    {
     "datasetId": 5172617,
     "sourceId": 8637692,
     "sourceType": "datasetVersion"
    }
   ],
   "dockerImageVersionId": 31153,
   "isGpuEnabled": false,
   "isInternetEnabled": true,
   "language": "python",
   "sourceType": "notebook"
  },
  "kernelspec": {
   "display_name": "Python 3",
   "language": "python",
   "name": "python3"
  },
  "language_info": {
   "codemirror_mode": {
    "name": "ipython",
    "version": 3
   },
   "file_extension": ".py",
   "mimetype": "text/x-python",
   "name": "python",
   "nbconvert_exporter": "python",
   "pygments_lexer": "ipython3",
   "version": "3.12.0"
  },
  "papermill": {
   "default_parameters": {},
   "duration": 15.013546,
   "end_time": "2025-10-30T13:01:36.524873",
   "environment_variables": {},
   "exception": null,
   "input_path": "__notebook__.ipynb",
   "output_path": "__notebook__.ipynb",
   "parameters": {},
   "start_time": "2025-10-30T13:01:21.511327",
   "version": "2.6.0"
  }
 },
 "nbformat": 4,
 "nbformat_minor": 5
}
